{
 "cells": [
  {
   "cell_type": "markdown",
   "id": "be1c0584",
   "metadata": {
    "papermill": {
     "duration": 0.009568,
     "end_time": "2023-01-20T08:18:59.781485",
     "exception": false,
     "start_time": "2023-01-20T08:18:59.771917",
     "status": "completed"
    },
    "tags": []
   },
   "source": [
    "## Import Libraries"
   ]
  },
  {
   "cell_type": "code",
   "execution_count": 1,
   "id": "2e5a4ce9",
   "metadata": {
    "execution": {
     "iopub.execute_input": "2023-01-20T08:18:59.801271Z",
     "iopub.status.busy": "2023-01-20T08:18:59.799843Z",
     "iopub.status.idle": "2023-01-20T08:18:59.812941Z",
     "shell.execute_reply": "2023-01-20T08:18:59.812017Z"
    },
    "papermill": {
     "duration": 0.025942,
     "end_time": "2023-01-20T08:18:59.815617",
     "exception": false,
     "start_time": "2023-01-20T08:18:59.789675",
     "status": "completed"
    },
    "tags": []
   },
   "outputs": [],
   "source": [
    "import numpy as np\n",
    "import math , copy\n",
    "import pandas as pd\n",
    "import matplotlib.pyplot as plt"
   ]
  },
  {
   "cell_type": "markdown",
   "id": "3cd223ec",
   "metadata": {
    "papermill": {
     "duration": 0.0081,
     "end_time": "2023-01-20T08:18:59.832014",
     "exception": false,
     "start_time": "2023-01-20T08:18:59.823914",
     "status": "completed"
    },
    "tags": []
   },
   "source": [
    "## Load Dataset"
   ]
  },
  {
   "cell_type": "code",
   "execution_count": 2,
   "id": "6451617d",
   "metadata": {
    "execution": {
     "iopub.execute_input": "2023-01-20T08:18:59.850490Z",
     "iopub.status.busy": "2023-01-20T08:18:59.849743Z",
     "iopub.status.idle": "2023-01-20T08:18:59.905919Z",
     "shell.execute_reply": "2023-01-20T08:18:59.904698Z"
    },
    "papermill": {
     "duration": 0.068752,
     "end_time": "2023-01-20T08:18:59.909111",
     "exception": false,
     "start_time": "2023-01-20T08:18:59.840359",
     "status": "completed"
    },
    "scrolled": true,
    "tags": []
   },
   "outputs": [
    {
     "data": {
      "text/html": [
       "<div>\n",
       "<style scoped>\n",
       "    .dataframe tbody tr th:only-of-type {\n",
       "        vertical-align: middle;\n",
       "    }\n",
       "\n",
       "    .dataframe tbody tr th {\n",
       "        vertical-align: top;\n",
       "    }\n",
       "\n",
       "    .dataframe thead th {\n",
       "        text-align: right;\n",
       "    }\n",
       "</style>\n",
       "<table border=\"1\" class=\"dataframe\">\n",
       "  <thead>\n",
       "    <tr style=\"text-align: right;\">\n",
       "      <th></th>\n",
       "      <th>Price</th>\n",
       "      <th>Sale</th>\n",
       "      <th>weight</th>\n",
       "      <th>resoloution</th>\n",
       "      <th>ppi</th>\n",
       "      <th>cpu_core</th>\n",
       "      <th>cpu_freq</th>\n",
       "      <th>internal_mem</th>\n",
       "      <th>ram</th>\n",
       "      <th>RearCam</th>\n",
       "      <th>Front_Cam</th>\n",
       "      <th>battery</th>\n",
       "      <th>thickness</th>\n",
       "    </tr>\n",
       "  </thead>\n",
       "  <tbody>\n",
       "    <tr>\n",
       "      <th>0</th>\n",
       "      <td>2357</td>\n",
       "      <td>10</td>\n",
       "      <td>135.0</td>\n",
       "      <td>5.2</td>\n",
       "      <td>424</td>\n",
       "      <td>8</td>\n",
       "      <td>1.35</td>\n",
       "      <td>16.0</td>\n",
       "      <td>3.000</td>\n",
       "      <td>13.00</td>\n",
       "      <td>8.0</td>\n",
       "      <td>2610</td>\n",
       "      <td>7.4</td>\n",
       "    </tr>\n",
       "    <tr>\n",
       "      <th>1</th>\n",
       "      <td>1749</td>\n",
       "      <td>10</td>\n",
       "      <td>125.0</td>\n",
       "      <td>4.0</td>\n",
       "      <td>233</td>\n",
       "      <td>2</td>\n",
       "      <td>1.30</td>\n",
       "      <td>4.0</td>\n",
       "      <td>1.000</td>\n",
       "      <td>3.15</td>\n",
       "      <td>0.0</td>\n",
       "      <td>1700</td>\n",
       "      <td>9.9</td>\n",
       "    </tr>\n",
       "    <tr>\n",
       "      <th>2</th>\n",
       "      <td>1916</td>\n",
       "      <td>10</td>\n",
       "      <td>110.0</td>\n",
       "      <td>4.7</td>\n",
       "      <td>312</td>\n",
       "      <td>4</td>\n",
       "      <td>1.20</td>\n",
       "      <td>8.0</td>\n",
       "      <td>1.500</td>\n",
       "      <td>13.00</td>\n",
       "      <td>5.0</td>\n",
       "      <td>2000</td>\n",
       "      <td>7.6</td>\n",
       "    </tr>\n",
       "    <tr>\n",
       "      <th>3</th>\n",
       "      <td>1315</td>\n",
       "      <td>11</td>\n",
       "      <td>118.5</td>\n",
       "      <td>4.0</td>\n",
       "      <td>233</td>\n",
       "      <td>2</td>\n",
       "      <td>1.30</td>\n",
       "      <td>4.0</td>\n",
       "      <td>0.512</td>\n",
       "      <td>3.15</td>\n",
       "      <td>0.0</td>\n",
       "      <td>1400</td>\n",
       "      <td>11.0</td>\n",
       "    </tr>\n",
       "    <tr>\n",
       "      <th>4</th>\n",
       "      <td>1749</td>\n",
       "      <td>11</td>\n",
       "      <td>125.0</td>\n",
       "      <td>4.0</td>\n",
       "      <td>233</td>\n",
       "      <td>2</td>\n",
       "      <td>1.30</td>\n",
       "      <td>4.0</td>\n",
       "      <td>1.000</td>\n",
       "      <td>3.15</td>\n",
       "      <td>0.0</td>\n",
       "      <td>1700</td>\n",
       "      <td>9.9</td>\n",
       "    </tr>\n",
       "  </tbody>\n",
       "</table>\n",
       "</div>"
      ],
      "text/plain": [
       "   Price  Sale  weight  resoloution  ppi  cpu_core  cpu_freq  internal_mem  \\\n",
       "0   2357    10   135.0          5.2  424         8      1.35          16.0   \n",
       "1   1749    10   125.0          4.0  233         2      1.30           4.0   \n",
       "2   1916    10   110.0          4.7  312         4      1.20           8.0   \n",
       "3   1315    11   118.5          4.0  233         2      1.30           4.0   \n",
       "4   1749    11   125.0          4.0  233         2      1.30           4.0   \n",
       "\n",
       "     ram  RearCam  Front_Cam  battery  thickness  \n",
       "0  3.000    13.00        8.0     2610        7.4  \n",
       "1  1.000     3.15        0.0     1700        9.9  \n",
       "2  1.500    13.00        5.0     2000        7.6  \n",
       "3  0.512     3.15        0.0     1400       11.0  \n",
       "4  1.000     3.15        0.0     1700        9.9  "
      ]
     },
     "execution_count": 2,
     "metadata": {},
     "output_type": "execute_result"
    }
   ],
   "source": [
    "dataset = pd.read_csv('../input/mobile-price-prediction/Cellphone.csv')\n",
    "dataset = dataset.drop('Product_id',axis=1)\n",
    "dataset.columns = ['Price', 'Sale' ,'weight' ,'resoloution' ,'ppi', 'cpu_core', 'cpu_freq' ,'internal_mem' ,'ram', 'RearCam',\n",
    "            'Front_Cam' , 'battery' , 'thickness']\n",
    "dataset.head()"
   ]
  },
  {
   "cell_type": "code",
   "execution_count": 3,
   "id": "4d339ea6",
   "metadata": {
    "execution": {
     "iopub.execute_input": "2023-01-20T08:18:59.929080Z",
     "iopub.status.busy": "2023-01-20T08:18:59.928706Z",
     "iopub.status.idle": "2023-01-20T08:18:59.934219Z",
     "shell.execute_reply": "2023-01-20T08:18:59.933264Z"
    },
    "papermill": {
     "duration": 0.018736,
     "end_time": "2023-01-20T08:18:59.936276",
     "exception": false,
     "start_time": "2023-01-20T08:18:59.917540",
     "status": "completed"
    },
    "tags": []
   },
   "outputs": [
    {
     "data": {
      "text/plain": [
       "161"
      ]
     },
     "execution_count": 3,
     "metadata": {},
     "output_type": "execute_result"
    }
   ],
   "source": [
    "dataset.shape[0]"
   ]
  },
  {
   "cell_type": "markdown",
   "id": "d81f9654",
   "metadata": {
    "papermill": {
     "duration": 0.00836,
     "end_time": "2023-01-20T08:18:59.953163",
     "exception": false,
     "start_time": "2023-01-20T08:18:59.944803",
     "status": "completed"
    },
    "tags": []
   },
   "source": [
    "## Dataset Splitting"
   ]
  },
  {
   "cell_type": "code",
   "execution_count": 4,
   "id": "3f0a4bdf",
   "metadata": {
    "execution": {
     "iopub.execute_input": "2023-01-20T08:18:59.972105Z",
     "iopub.status.busy": "2023-01-20T08:18:59.971692Z",
     "iopub.status.idle": "2023-01-20T08:19:01.378787Z",
     "shell.execute_reply": "2023-01-20T08:19:01.377648Z"
    },
    "papermill": {
     "duration": 1.420182,
     "end_time": "2023-01-20T08:19:01.381811",
     "exception": false,
     "start_time": "2023-01-20T08:18:59.961629",
     "status": "completed"
    },
    "tags": []
   },
   "outputs": [
    {
     "data": {
      "image/png": "[encoded data removed]",
      "text/plain": [
       "<Figure size 1080x720 with 12 Axes>"
      ]
     },
     "metadata": {
      "needs_background": "light"
     },
     "output_type": "display_data"
    }
   ],
   "source": [
    "features = dataset.columns\n",
    "f = 0\n",
    "fig,ax = plt.subplots(3,4,figsize=(15,10))\n",
    "for i in range(0,3):\n",
    "    for j in range(0,4):\n",
    "        ax[i][j].scatter(dataset[features[f]] , dataset.Price)\n",
    "        ax[i][j].set_xlabel(features[f])\n",
    "        ax[i][j].set_ylabel('Price')\n",
    "        f = f+1\n",
    "        \n",
    "plt.show()"
   ]
  },
  {
   "cell_type": "code",
   "execution_count": 5,
   "id": "5b12d628",
   "metadata": {
    "execution": {
     "iopub.execute_input": "2023-01-20T08:19:01.402831Z",
     "iopub.status.busy": "2023-01-20T08:19:01.402442Z",
     "iopub.status.idle": "2023-01-20T08:19:01.410413Z",
     "shell.execute_reply": "2023-01-20T08:19:01.409190Z"
    },
    "papermill": {
     "duration": 0.021352,
     "end_time": "2023-01-20T08:19:01.412789",
     "exception": false,
     "start_time": "2023-01-20T08:19:01.391437",
     "status": "completed"
    },
    "tags": []
   },
   "outputs": [],
   "source": [
    "X_train = np.array(dataset.iloc[0:100,1:])\n",
    "X_test = np.array(dataset.iloc[100:161,1:])\n",
    "y_train = np.array(dataset.iloc[0:100,0])\n",
    "y_test = np.array(dataset.iloc[100:161,0])"
   ]
  },
  {
   "cell_type": "markdown",
   "id": "e4b5da41",
   "metadata": {
    "papermill": {
     "duration": 0.009379,
     "end_time": "2023-01-20T08:19:01.431361",
     "exception": false,
     "start_time": "2023-01-20T08:19:01.421982",
     "status": "completed"
    },
    "tags": []
   },
   "source": [
    "## Compute Cost Function"
   ]
  },
  {
   "cell_type": "markdown",
   "id": "42b10ccf",
   "metadata": {
    "papermill": {
     "duration": 0.008825,
     "end_time": "2023-01-20T08:19:01.449461",
     "exception": false,
     "start_time": "2023-01-20T08:19:01.440636",
     "status": "completed"
    },
    "tags": []
   },
   "source": [
    "The equation for the cost function with multiple variables $J(\\mathbf{w},b)$ is:\n",
    "$$J(\\mathbf{w},b) = \\frac{1}{2m} \\sum\\limits_{i = 0}^{m-1} (f_{\\mathbf{w},b}(\\mathbf{x}^{(i)}) - y^{(i)})^2 $$ \n",
    "where:\n",
    "$$ f_{\\mathbf{w},b}(\\mathbf{x}^{(i)}) = \\mathbf{w} \\cdot \\mathbf{x}^{(i)} + b  $$ "
   ]
  },
  {
   "cell_type": "code",
   "execution_count": 6,
   "id": "1a62a27e",
   "metadata": {
    "execution": {
     "iopub.execute_input": "2023-01-20T08:19:01.469937Z",
     "iopub.status.busy": "2023-01-20T08:19:01.469193Z",
     "iopub.status.idle": "2023-01-20T08:19:01.473945Z",
     "shell.execute_reply": "2023-01-20T08:19:01.473075Z"
    },
    "papermill": {
     "duration": 0.017448,
     "end_time": "2023-01-20T08:19:01.476034",
     "exception": false,
     "start_time": "2023-01-20T08:19:01.458586",
     "status": "completed"
    },
    "tags": []
   },
   "outputs": [],
   "source": [
    "b_init = 0\n",
    "w_init = np.array([0.0,0.0,0.0,0.0,0.0,0.0,0.0,0.0,0.0,0.0,0.0,0.0])"
   ]
  },
  {
   "cell_type": "code",
   "execution_count": 7,
   "id": "dde4e4c3",
   "metadata": {
    "execution": {
     "iopub.execute_input": "2023-01-20T08:19:01.496696Z",
     "iopub.status.busy": "2023-01-20T08:19:01.495967Z",
     "iopub.status.idle": "2023-01-20T08:19:01.503905Z",
     "shell.execute_reply": "2023-01-20T08:19:01.502423Z"
    },
    "papermill": {
     "duration": 0.02107,
     "end_time": "2023-01-20T08:19:01.506476",
     "exception": false,
     "start_time": "2023-01-20T08:19:01.485406",
     "status": "completed"
    },
    "scrolled": true,
    "tags": []
   },
   "outputs": [
    {
     "name": "stdout",
     "output_type": "stream",
     "text": [
      "2569905.105\n"
     ]
    }
   ],
   "source": [
    "def cost_function(X,y,b,w):\n",
    "    m = X.shape[0]\n",
    "    error = 0.0\n",
    "    for i in range(m):\n",
    "        fwb = np.dot(X[i],w) + b\n",
    "        error = error + (fwb - y[i])**2\n",
    "    cost = error / (2*m)\n",
    "    return cost\n",
    "\n",
    "print(cost_function(X_train,y_train,b_init,w_init))"
   ]
  },
  {
   "cell_type": "markdown",
   "id": "3b641edd",
   "metadata": {
    "papermill": {
     "duration": 0.009402,
     "end_time": "2023-01-20T08:19:01.525538",
     "exception": false,
     "start_time": "2023-01-20T08:19:01.516136",
     "status": "completed"
    },
    "tags": []
   },
   "source": [
    "## Compute Gradient Descent"
   ]
  },
  {
   "cell_type": "markdown",
   "id": "2ba9b709",
   "metadata": {
    "papermill": {
     "duration": 0.008991,
     "end_time": "2023-01-20T08:19:01.543879",
     "exception": false,
     "start_time": "2023-01-20T08:19:01.534888",
     "status": "completed"
    },
    "tags": []
   },
   "source": [
    "$$\n",
    "\\begin{align}\n",
    "\\frac{\\partial J(\\mathbf{w},b)}{\\partial w_j}  &= \\frac{1}{m} \\sum\\limits_{i = 0}^{m-1} (f_{\\mathbf{w},b}(\\mathbf{x}^{(i)}) - y^{(i)})x_{j}^{(i)}  \\\\\n",
    "\\frac{\\partial J(\\mathbf{w},b)}{\\partial b}  &= \\frac{1}{m} \\sum\\limits_{i = 0}^{m-1} (f_{\\mathbf{w},b}(\\mathbf{x}^{(i)}) - y^{(i)}) \n",
    "\\end{align}\n",
    "$$"
   ]
  },
  {
   "cell_type": "code",
   "execution_count": 8,
   "id": "ea3a2f84",
   "metadata": {
    "execution": {
     "iopub.execute_input": "2023-01-20T08:19:01.564556Z",
     "iopub.status.busy": "2023-01-20T08:19:01.564176Z",
     "iopub.status.idle": "2023-01-20T08:19:01.574735Z",
     "shell.execute_reply": "2023-01-20T08:19:01.573596Z"
    },
    "papermill": {
     "duration": 0.024004,
     "end_time": "2023-01-20T08:19:01.577130",
     "exception": false,
     "start_time": "2023-01-20T08:19:01.553126",
     "status": "completed"
    },
    "tags": []
   },
   "outputs": [
    {
     "name": "stdout",
     "output_type": "stream",
     "text": [
      "bias: -2172.83\n",
      "weights: [-1.33213360e+05 -3.67557162e+05 -1.17446522e+04 -7.57616520e+05\n",
      " -1.15744200e+04 -3.54646786e+03 -5.66000800e+04 -5.23577232e+03\n",
      " -2.39512040e+04 -1.01280160e+04 -6.19993090e+06 -1.79960560e+04]\n"
     ]
    }
   ],
   "source": [
    "def Gradient_Descent(X,y,w,b):\n",
    "    m,n = X.shape\n",
    "    dw = np.zeros(n)\n",
    "    db = 0\n",
    "    \n",
    "    for i in range(m):\n",
    "        Fwb = np.dot(X[i],w) + b\n",
    "        error = Fwb - y[i]\n",
    "        \n",
    "        for j in range(n):\n",
    "            dw[j] = dw[j] + error * X[i,j]\n",
    "            \n",
    "        db = db + error\n",
    "        \n",
    "    dw = dw / m\n",
    "    db = db / m\n",
    "    \n",
    "    return dw , db\n",
    "\n",
    "w , b = Gradient_Descent(X_train,y_train,w_init,b_init)\n",
    "print('bias:',b)\n",
    "print('weights:',w)"
   ]
  },
  {
   "cell_type": "markdown",
   "id": "0ff41af9",
   "metadata": {
    "papermill": {
     "duration": 0.009168,
     "end_time": "2023-01-20T08:19:01.596007",
     "exception": false,
     "start_time": "2023-01-20T08:19:01.586839",
     "status": "completed"
    },
    "tags": []
   },
   "source": [
    "## Linear Regression with Gradient Descent"
   ]
  },
  {
   "cell_type": "markdown",
   "id": "bd2378e9",
   "metadata": {
    "papermill": {
     "duration": 0.009225,
     "end_time": "2023-01-20T08:19:01.615351",
     "exception": false,
     "start_time": "2023-01-20T08:19:01.606126",
     "status": "completed"
    },
    "tags": []
   },
   "source": [
    "$$\\begin{align*} \\text{repeat}&\\text{ until convergence:} \\; \\lbrace \\newline\\;\n",
    "& w_j = w_j -  \\alpha \\frac{\\partial J(\\mathbf{w},b)}{\\partial w_j}   \\; & \\text{for j = 0..n-1}\\newline\n",
    "&b\\ \\ = b -  \\alpha \\frac{\\partial J(\\mathbf{w},b)}{\\partial b}  \\newline \\rbrace\n",
    "\\end{align*}$$"
   ]
  },
  {
   "cell_type": "code",
   "execution_count": 9,
   "id": "6490e1ec",
   "metadata": {
    "execution": {
     "iopub.execute_input": "2023-01-20T08:19:01.635924Z",
     "iopub.status.busy": "2023-01-20T08:19:01.635512Z",
     "iopub.status.idle": "2023-01-20T08:19:11.440270Z",
     "shell.execute_reply": "2023-01-20T08:19:11.439441Z"
    },
    "papermill": {
     "duration": 9.81835,
     "end_time": "2023-01-20T08:19:11.443031",
     "exception": false,
     "start_time": "2023-01-20T08:19:01.624681",
     "status": "completed"
    },
    "tags": []
   },
   "outputs": [
    {
     "name": "stdout",
     "output_type": "stream",
     "text": [
      "iteration: 0  Cost: 2530904.248402478\n",
      "iteration: 1000  Cost: 133333386.5653825\n",
      "iteration: 2000  Cost: 603403279.3009049\n",
      "iteration: 3000  Cost: 1412740582.4549284\n",
      "iteration: 4000  Cost: 2561345296.0274663\n",
      "iteration: 5000  Cost: 4049217420.018518\n",
      "iteration: 6000  Cost: 5876356954.429015\n",
      "iteration: 7000  Cost: 8042763899.258546\n",
      "iteration: 8000  Cost: 10548438254.506964\n",
      "iteration: 9000  Cost: 13393380020.17427\n",
      "\n",
      "b,w found by gradient descent:\n",
      "bias: 0.02172830000000018\n",
      "weights:: [1.33213360e+00 3.67557162e+00 1.17446522e-01 7.57616520e+00\n",
      " 1.15744200e-01 3.54646786e-02 5.66000800e-01 5.23577232e-02\n",
      " 2.39512040e-01 1.01280160e-01 6.19993090e+01 1.79960560e-01]\n"
     ]
    }
   ],
   "source": [
    "def gradient_descent(X, y, w_in, b_in, cost_function, Gradient_Descent, alpha, num_iters):\n",
    "    history = []\n",
    "    b = b_in\n",
    "    w = copy.deepcopy(w_in)\n",
    "\n",
    "    for i in range(num_iters):\n",
    "        d_w,d_b = Gradient_Descent(X, y, w_in, b_in)\n",
    "        \n",
    "        w = w - alpha * d_w\n",
    "        b = b - alpha * d_b\n",
    "        \n",
    "        if i<100000:\n",
    "            history.append(cost_function(X, y, b, w))\n",
    "        \n",
    "        if i% math.ceil(num_iters / 10) == 0:\n",
    "            print('iteration:',i,' Cost:',history[-1])\n",
    "                \n",
    "    return w, b, history\n",
    "\n",
    "w_final, b_final, J_hist = gradient_descent(X_train,y_train,w_init,b_init,cost_function, Gradient_Descent, 1e-9,10000) \n",
    "print(\"\\nb,w found by gradient descent:\")\n",
    "print('bias:',b_final)\n",
    "print('weights::',w_final)"
   ]
  },
  {
   "cell_type": "code",
   "execution_count": 10,
   "id": "4d501904",
   "metadata": {
    "execution": {
     "iopub.execute_input": "2023-01-20T08:19:11.465506Z",
     "iopub.status.busy": "2023-01-20T08:19:11.464740Z",
     "iopub.status.idle": "2023-01-20T08:19:11.579391Z",
     "shell.execute_reply": "2023-01-20T08:19:11.577896Z"
    },
    "papermill": {
     "duration": 0.130266,
     "end_time": "2023-01-20T08:19:11.583543",
     "exception": false,
     "start_time": "2023-01-20T08:19:11.453277",
     "status": "completed"
    },
    "tags": []
   },
   "outputs": [
    {
     "data": {
      "image/png": "[encoded data removed]",
      "text/plain": [
       "<Figure size 288x144 with 1 Axes>"
      ]
     },
     "metadata": {
      "needs_background": "light"
     },
     "output_type": "display_data"
    }
   ],
   "source": [
    "plt.figure(figsize=(4,2))\n",
    "plt.plot(J_hist)\n",
    "plt.title(\"Cost vs. iteration\" )\n",
    "plt.show()"
   ]
  },
  {
   "cell_type": "markdown",
   "id": "6fc8ada3",
   "metadata": {
    "papermill": {
     "duration": 0.010543,
     "end_time": "2023-01-20T08:19:11.619335",
     "exception": false,
     "start_time": "2023-01-20T08:19:11.608792",
     "status": "completed"
    },
    "tags": []
   },
   "source": [
    "## Prediction"
   ]
  },
  {
   "cell_type": "code",
   "execution_count": 11,
   "id": "e8600edd",
   "metadata": {
    "execution": {
     "iopub.execute_input": "2023-01-20T08:19:11.642484Z",
     "iopub.status.busy": "2023-01-20T08:19:11.641748Z",
     "iopub.status.idle": "2023-01-20T08:19:11.649875Z",
     "shell.execute_reply": "2023-01-20T08:19:11.648640Z"
    },
    "papermill": {
     "duration": 0.022102,
     "end_time": "2023-01-20T08:19:11.652213",
     "exception": false,
     "start_time": "2023-01-20T08:19:11.630111",
     "status": "completed"
    },
    "scrolled": true,
    "tags": []
   },
   "outputs": [
    {
     "name": "stdout",
     "output_type": "stream",
     "text": [
      "prediction: 177731.44080944158 target value: 2343\n",
      "prediction: 70015.4325018594 target value: 833\n",
      "prediction: 157529.67059264478 target value: 1522\n",
      "prediction: 177742.0978782416 target value: 2343\n",
      "prediction: 171547.48403887593 target value: 2744\n",
      "prediction: 70031.41810505939 target value: 833\n",
      "prediction: 171555.47684047595 target value: 2744\n",
      "prediction: 139532.47311657717 target value: 1676\n",
      "prediction: 139548.45871977718 target value: 1676\n",
      "prediction: 203328.81748225368 target value: 2858\n",
      "prediction: 54651.80479833876 target value: 754\n",
      "prediction: 191019.38537328105 target value: 2975\n",
      "prediction: 191026.04604128108 target value: 2975\n",
      "prediction: 54663.79400073876 target value: 754\n",
      "prediction: 202642.08213121732 target value: 2880\n",
      "prediction: 203360.78868865367 target value: 2858\n",
      "prediction: 314143.30487371964 target value: 3287\n",
      "prediction: 314173.94394651963 target value: 3287\n",
      "prediction: 229247.0436492999 target value: 2054\n",
      "prediction: 110058.87854576077 target value: 1734\n",
      "prediction: 110064.20708016078 target value: 1734\n",
      "prediction: 229263.0292524999 target value: 2054\n",
      "prediction: 214006.04148834405 target value: 2001\n",
      "prediction: 214014.03428994404 target value: 2001\n",
      "prediction: 202787.28469361734 target value: 2880\n",
      "prediction: 57740.57327962449 target value: 705\n",
      "prediction: 57745.90181402449 target value: 705\n",
      "prediction: 594262.8392352158 target value: 2491\n",
      "prediction: 594264.1713688158 target value: 2491\n",
      "prediction: 191298.8314130396 target value: 2466\n",
      "prediction: 164020.97129633345 target value: 1357\n",
      "prediction: 164075.58877393344 target value: 1357\n",
      "prediction: 191389.41649783961 target value: 2466\n",
      "prediction: 121245.71673497341 target value: 2266\n",
      "prediction: 121267.0308725734 target value: 2266\n",
      "prediction: 251741.19177534882 target value: 2445\n",
      "prediction: 251823.78405854883 target value: 2445\n",
      "prediction: 203369.1267367472 target value: 3116\n",
      "prediction: 166494.03284057154 target value: 2409\n",
      "prediction: 166539.32538297155 target value: 2409\n",
      "prediction: 61881.912886363156 target value: 628\n",
      "prediction: 61948.51956636317 target value: 628\n",
      "prediction: 198023.89484142498 target value: 2508\n",
      "prediction: 198095.83005582498 target value: 2508\n",
      "prediction: 164393.86831312813 target value: 1921\n",
      "prediction: 164501.77113472816 target value: 1921\n",
      "prediction: 222211.82439627204 target value: 3102\n",
      "prediction: 222234.47066747205 target value: 3102\n",
      "prediction: 192465.89241964204 target value: 3055\n",
      "prediction: 53712.12765904359 target value: 614\n",
      "prediction: 53728.11326224359 target value: 614\n",
      "prediction: 192555.14537084204 target value: 3055\n",
      "prediction: 443177.9086822849 target value: 4361\n",
      "prediction: 443235.1904270849 target value: 4361\n",
      "prediction: 175761.24419821592 target value: 2536\n",
      "prediction: 263639.4152586745 target value: 3551\n",
      "prediction: 263945.80598667456 target value: 3551\n",
      "prediction: 226227.5380527962 target value: 3211\n",
      "prediction: 201368.21458860222 target value: 3260\n",
      "prediction: 227466.4223007965 target value: 3211\n",
      "prediction: 184004.48691501777 target value: 2536\n"
     ]
    }
   ],
   "source": [
    "pred = np.zeros(61)\n",
    "for i in range(0,61):\n",
    "    pred[i] = np.dot(X_test[i], w_final) + b_final\n",
    "    print('prediction:', pred[i],'target value:' ,y_test[i])"
   ]
  },
  {
   "cell_type": "code",
   "execution_count": 12,
   "id": "e9f0a7ac",
   "metadata": {
    "execution": {
     "iopub.execute_input": "2023-01-20T08:19:11.675021Z",
     "iopub.status.busy": "2023-01-20T08:19:11.674283Z",
     "iopub.status.idle": "2023-01-20T08:19:13.154098Z",
     "shell.execute_reply": "2023-01-20T08:19:13.153144Z"
    },
    "papermill": {
     "duration": 1.493781,
     "end_time": "2023-01-20T08:19:13.156465",
     "exception": false,
     "start_time": "2023-01-20T08:19:11.662684",
     "status": "completed"
    },
    "tags": []
   },
   "outputs": [
    {
     "data": {
      "image/png": "[encoded data removed]",
      "text/plain": [
       "<Figure size 1080x720 with 12 Axes>"
      ]
     },
     "metadata": {
      "needs_background": "light"
     },
     "output_type": "display_data"
    }
   ],
   "source": [
    "X_test = pd.DataFrame(X_test)\n",
    "features = X_test.columns\n",
    "f = 0\n",
    "fig,ax = plt.subplots(3,4,figsize=(15,10))\n",
    "for i in range(0,3):\n",
    "    for j in range(0,4):\n",
    "        ax[i][j].scatter(X_test[features[f]] , y_test)\n",
    "        ax[i][j].scatter(X_test[features[f]] , pred)\n",
    "        ax[i][j].set_xlabel(features[f])\n",
    "        ax[i][j].set_ylabel('Price')\n",
    "        f = f+1\n",
    "        \n",
    "plt.show()"
   ]
  },
  {
   "cell_type": "markdown",
   "id": "0f96eeb5",
   "metadata": {
    "papermill": {
     "duration": 0.010825,
     "end_time": "2023-01-20T08:19:13.178847",
     "exception": false,
     "start_time": "2023-01-20T08:19:13.168022",
     "status": "completed"
    },
    "tags": []
   },
   "source": [
    "## Improve Learning Rate by Scaling the Data"
   ]
  },
  {
   "cell_type": "code",
   "execution_count": 13,
   "id": "bc9f9b07",
   "metadata": {
    "execution": {
     "iopub.execute_input": "2023-01-20T08:19:13.203179Z",
     "iopub.status.busy": "2023-01-20T08:19:13.202758Z",
     "iopub.status.idle": "2023-01-20T08:19:13.225818Z",
     "shell.execute_reply": "2023-01-20T08:19:13.224294Z"
    },
    "papermill": {
     "duration": 0.038119,
     "end_time": "2023-01-20T08:19:13.228165",
     "exception": false,
     "start_time": "2023-01-20T08:19:13.190046",
     "status": "completed"
    },
    "tags": []
   },
   "outputs": [],
   "source": [
    "def standardization(col):\n",
    "    mean = X_train[col].mean()\n",
    "    std = X_train[col].std()\n",
    "    if (std != 0):\n",
    "        X_train[col] = X_train[col].map(lambda p : (p-mean)/std)\n",
    "\n",
    "X_train = pd.DataFrame(X_train)\n",
    "for i in X_train.columns:\n",
    "    standardization(i)\n",
    "    \n",
    "X_test = pd.DataFrame(X_test)\n",
    "for i in X_test.columns:\n",
    "    standardization(i)"
   ]
  },
  {
   "cell_type": "code",
   "execution_count": 14,
   "id": "39ea8ad4",
   "metadata": {
    "execution": {
     "iopub.execute_input": "2023-01-20T08:19:13.252801Z",
     "iopub.status.busy": "2023-01-20T08:19:13.252418Z",
     "iopub.status.idle": "2023-01-20T08:19:14.633065Z",
     "shell.execute_reply": "2023-01-20T08:19:14.631915Z"
    },
    "papermill": {
     "duration": 1.396026,
     "end_time": "2023-01-20T08:19:14.635638",
     "exception": false,
     "start_time": "2023-01-20T08:19:13.239612",
     "status": "completed"
    },
    "tags": []
   },
   "outputs": [
    {
     "data": {
      "image/png": "[encoded data removed]",
      "text/plain": [
       "<Figure size 1224x720 with 12 Axes>"
      ]
     },
     "metadata": {
      "needs_background": "light"
     },
     "output_type": "display_data"
    }
   ],
   "source": [
    "f=0\n",
    "fig,ax = plt.subplots(3,4,figsize=(17,10))\n",
    "for i in range(0,3):\n",
    "    for j in range(0,4):\n",
    "        ax[i][j].scatter(X_train[f] , y_train)\n",
    "        f = f+1\n",
    "        \n",
    "plt.show()"
   ]
  },
  {
   "cell_type": "code",
   "execution_count": 15,
   "id": "83c6e609",
   "metadata": {
    "execution": {
     "iopub.execute_input": "2023-01-20T08:19:14.661813Z",
     "iopub.status.busy": "2023-01-20T08:19:14.661088Z",
     "iopub.status.idle": "2023-01-20T08:19:24.528486Z",
     "shell.execute_reply": "2023-01-20T08:19:24.527109Z"
    },
    "papermill": {
     "duration": 9.883097,
     "end_time": "2023-01-20T08:19:24.530984",
     "exception": false,
     "start_time": "2023-01-20T08:19:14.647887",
     "status": "completed"
    },
    "scrolled": true,
    "tags": []
   },
   "outputs": [
    {
     "name": "stdout",
     "output_type": "stream",
     "text": [
      "iteration: 0  Cost: 2569244.296203901\n",
      "iteration: 1000  Cost: 1979409.4108895713\n",
      "iteration: 2000  Cost: 1531380.5411285127\n",
      "iteration: 3000  Cost: 1225157.6869207958\n",
      "iteration: 4000  Cost: 1060740.8482663643\n",
      "iteration: 5000  Cost: 1038130.025165179\n",
      "iteration: 6000  Cost: 1157325.217617209\n",
      "iteration: 7000  Cost: 1418326.4256225002\n",
      "iteration: 8000  Cost: 1821133.649181064\n",
      "iteration: 9000  Cost: 2365746.888292883\n",
      "\n",
      "b,w found by gradient descent:\n",
      "bias: 2172.829999999649\n",
      "weights:: [ -55.36500279  -20.67324904  129.54807406  530.96950834  404.31647787\n",
      "  422.33912677  511.85920164  571.21753803  499.49912017  407.26143642\n",
      "  268.30798554 -409.781526  ]\n"
     ]
    }
   ],
   "source": [
    "X_train  = np.array(X_train)\n",
    "w_final, b_final, J_hist = gradient_descent(X_train,y_train,w_init,b_init,cost_function, Gradient_Descent, 1e-4,10000) \n",
    "print(\"\\nb,w found by gradient descent:\")\n",
    "print('bias:',b_final)\n",
    "print('weights::',w_final)"
   ]
  },
  {
   "cell_type": "code",
   "execution_count": 16,
   "id": "7d5a7589",
   "metadata": {
    "execution": {
     "iopub.execute_input": "2023-01-20T08:19:24.558183Z",
     "iopub.status.busy": "2023-01-20T08:19:24.557654Z",
     "iopub.status.idle": "2023-01-20T08:19:24.739132Z",
     "shell.execute_reply": "2023-01-20T08:19:24.737911Z"
    },
    "papermill": {
     "duration": 0.197999,
     "end_time": "2023-01-20T08:19:24.741669",
     "exception": false,
     "start_time": "2023-01-20T08:19:24.543670",
     "status": "completed"
    },
    "tags": []
   },
   "outputs": [
    {
     "data": {
      "image/png": "[encoded data removed]",
      "text/plain": [
       "<Figure size 288x144 with 1 Axes>"
      ]
     },
     "metadata": {
      "needs_background": "light"
     },
     "output_type": "display_data"
    }
   ],
   "source": [
    "plt.figure(figsize=(4,2))\n",
    "plt.plot(J_hist)\n",
    "plt.title(\"Cost vs. iteration\" )\n",
    "plt.show()"
   ]
  },
  {
   "cell_type": "code",
   "execution_count": 17,
   "id": "6120ec5a",
   "metadata": {
    "execution": {
     "iopub.execute_input": "2023-01-20T08:19:24.770165Z",
     "iopub.status.busy": "2023-01-20T08:19:24.769772Z",
     "iopub.status.idle": "2023-01-20T08:19:24.776150Z",
     "shell.execute_reply": "2023-01-20T08:19:24.775175Z"
    },
    "papermill": {
     "duration": 0.023798,
     "end_time": "2023-01-20T08:19:24.778847",
     "exception": false,
     "start_time": "2023-01-20T08:19:24.755049",
     "status": "completed"
    },
    "scrolled": true,
    "tags": []
   },
   "outputs": [
    {
     "name": "stdout",
     "output_type": "stream",
     "text": [
      "prediction: 986410.8176290122 target value: 2343\n",
      "prediction: 367732.7076221329 target value: 833\n",
      "prediction: 777258.6555588766 target value: 1522\n",
      "prediction: 985967.8976066605 target value: 2343\n",
      "prediction: 967493.6562861986 target value: 2744\n",
      "prediction: 367068.3275886054 target value: 833\n"
     ]
    }
   ],
   "source": [
    "X_test  = np.array(X_test)\n",
    "for i in range(6):\n",
    "    pred = np.dot(X_test[i],w_final) + b_final\n",
    "    print('prediction:',pred,'target value:' ,y_test[i])"
   ]
  },
  {
   "cell_type": "markdown",
   "id": "b4158d75",
   "metadata": {
    "papermill": {
     "duration": 0.012507,
     "end_time": "2023-01-20T08:19:24.804165",
     "exception": false,
     "start_time": "2023-01-20T08:19:24.791658",
     "status": "completed"
    },
    "tags": []
   },
   "source": [
    "# Using Scikit-Learn"
   ]
  },
  {
   "cell_type": "code",
   "execution_count": 18,
   "id": "cb5a07ad",
   "metadata": {
    "execution": {
     "iopub.execute_input": "2023-01-20T08:19:24.831244Z",
     "iopub.status.busy": "2023-01-20T08:19:24.830878Z",
     "iopub.status.idle": "2023-01-20T08:19:25.874322Z",
     "shell.execute_reply": "2023-01-20T08:19:25.873217Z"
    },
    "papermill": {
     "duration": 1.060323,
     "end_time": "2023-01-20T08:19:25.877088",
     "exception": false,
     "start_time": "2023-01-20T08:19:24.816765",
     "status": "completed"
    },
    "tags": []
   },
   "outputs": [],
   "source": [
    "from sklearn.linear_model import SGDRegressor\n",
    "from sklearn.preprocessing import StandardScaler"
   ]
  },
  {
   "cell_type": "markdown",
   "id": "26012591",
   "metadata": {
    "papermill": {
     "duration": 0.012397,
     "end_time": "2023-01-20T08:19:25.902830",
     "exception": false,
     "start_time": "2023-01-20T08:19:25.890433",
     "status": "completed"
    },
    "tags": []
   },
   "source": [
    "### Scale/normalize the training data"
   ]
  },
  {
   "cell_type": "code",
   "execution_count": 19,
   "id": "d119aa36",
   "metadata": {
    "execution": {
     "iopub.execute_input": "2023-01-20T08:19:25.930475Z",
     "iopub.status.busy": "2023-01-20T08:19:25.930077Z",
     "iopub.status.idle": "2023-01-20T08:19:25.938183Z",
     "shell.execute_reply": "2023-01-20T08:19:25.936690Z"
    },
    "papermill": {
     "duration": 0.025551,
     "end_time": "2023-01-20T08:19:25.941209",
     "exception": false,
     "start_time": "2023-01-20T08:19:25.915658",
     "status": "completed"
    },
    "tags": []
   },
   "outputs": [
    {
     "name": "stdout",
     "output_type": "stream",
     "text": [
      "Peak to Peak range by column in Raw        X:[3.85910885 5.44285135 6.77942586 3.91850278 3.20125197 5.28632229\n",
      " 5.74456265 4.3379192  3.78916335 4.30134403 6.19340739 4.88540353]\n",
      "Peak to Peak range by column in Normalized X:[3.87855033 5.47027143 6.81357936 3.93824348 3.21737929 5.3129538\n",
      " 5.77350269 4.35977283 3.80825245 4.32301341 6.22460864 4.91001529]\n"
     ]
    }
   ],
   "source": [
    "scaler = StandardScaler()\n",
    "X_norm = scaler.fit_transform(X_train)\n",
    "print(f\"Peak to Peak range by column in Raw        X:{np.ptp(X_train,axis=0)}\")   \n",
    "print(f\"Peak to Peak range by column in Normalized X:{np.ptp(X_norm,axis=0)}\")"
   ]
  },
  {
   "cell_type": "markdown",
   "id": "c4f126e3",
   "metadata": {
    "papermill": {
     "duration": 0.012667,
     "end_time": "2023-01-20T08:19:25.967477",
     "exception": false,
     "start_time": "2023-01-20T08:19:25.954810",
     "status": "completed"
    },
    "tags": []
   },
   "source": [
    "### Create and fit the regression model"
   ]
  },
  {
   "cell_type": "code",
   "execution_count": 20,
   "id": "58c6fc84",
   "metadata": {
    "execution": {
     "iopub.execute_input": "2023-01-20T08:19:25.995266Z",
     "iopub.status.busy": "2023-01-20T08:19:25.994836Z",
     "iopub.status.idle": "2023-01-20T08:19:26.005147Z",
     "shell.execute_reply": "2023-01-20T08:19:26.003411Z"
    },
    "papermill": {
     "duration": 0.027286,
     "end_time": "2023-01-20T08:19:26.007648",
     "exception": false,
     "start_time": "2023-01-20T08:19:25.980362",
     "status": "completed"
    },
    "tags": []
   },
   "outputs": [
    {
     "name": "stdout",
     "output_type": "stream",
     "text": [
      "SGDRegressor()\n",
      "number of iterations completed: 65, number of weight updates: 6501.0\n"
     ]
    }
   ],
   "source": [
    "sgdr = SGDRegressor(max_iter=1000)\n",
    "sgdr.fit(X_norm, y_train)\n",
    "print(sgdr)\n",
    "print(f\"number of iterations completed: {sgdr.n_iter_}, number of weight updates: {sgdr.t_}\")"
   ]
  },
  {
   "cell_type": "markdown",
   "id": "2b31ba15",
   "metadata": {
    "papermill": {
     "duration": 0.012637,
     "end_time": "2023-01-20T08:19:26.033350",
     "exception": false,
     "start_time": "2023-01-20T08:19:26.020713",
     "status": "completed"
    },
    "tags": []
   },
   "source": [
    "### View parameters"
   ]
  },
  {
   "cell_type": "code",
   "execution_count": 21,
   "id": "f8d035ab",
   "metadata": {
    "execution": {
     "iopub.execute_input": "2023-01-20T08:19:26.061405Z",
     "iopub.status.busy": "2023-01-20T08:19:26.060633Z",
     "iopub.status.idle": "2023-01-20T08:19:26.066998Z",
     "shell.execute_reply": "2023-01-20T08:19:26.065536Z"
    },
    "papermill": {
     "duration": 0.023034,
     "end_time": "2023-01-20T08:19:26.069335",
     "exception": false,
     "start_time": "2023-01-20T08:19:26.046301",
     "status": "completed"
    },
    "tags": []
   },
   "outputs": [
    {
     "name": "stdout",
     "output_type": "stream",
     "text": [
      "model parameters:                   w: [  15.67986918  -18.29327538  -36.94808018  115.60037678   98.97573734\n",
      "   51.85286038  160.05495308  153.10317593   87.92657728  -29.67046636\n",
      "   57.82806258 -132.23703722], b:[2172.77022351]\n"
     ]
    }
   ],
   "source": [
    "b_norm = sgdr.intercept_\n",
    "w_norm = sgdr.coef_\n",
    "print(f\"model parameters:                   w: {w_norm}, b:{b_norm}\")"
   ]
  },
  {
   "cell_type": "markdown",
   "id": "0cdb1870",
   "metadata": {
    "papermill": {
     "duration": 0.012868,
     "end_time": "2023-01-20T08:19:26.095256",
     "exception": false,
     "start_time": "2023-01-20T08:19:26.082388",
     "status": "completed"
    },
    "tags": []
   },
   "source": [
    "### Make predictions"
   ]
  },
  {
   "cell_type": "code",
   "execution_count": 22,
   "id": "02d88ebb",
   "metadata": {
    "execution": {
     "iopub.execute_input": "2023-01-20T08:19:26.123144Z",
     "iopub.status.busy": "2023-01-20T08:19:26.122721Z",
     "iopub.status.idle": "2023-01-20T08:19:26.129672Z",
     "shell.execute_reply": "2023-01-20T08:19:26.128930Z"
    },
    "papermill": {
     "duration": 0.024642,
     "end_time": "2023-01-20T08:19:26.132895",
     "exception": false,
     "start_time": "2023-01-20T08:19:26.108253",
     "status": "completed"
    },
    "tags": []
   },
   "outputs": [
    {
     "name": "stdout",
     "output_type": "stream",
     "text": [
      "prediction using np.dot() and sgdr.predict match: True\n",
      "Prediction on training set:\n",
      "[2571.15461981 1487.24627429 2031.34625869 1330.24533997]\n",
      "Target values \n",
      "[2357 1749 1916 1315]\n"
     ]
    }
   ],
   "source": [
    "# make a prediction using sgdr.predict()\n",
    "y_pred_sgd = sgdr.predict(X_norm)\n",
    "# make a prediction using w,b. \n",
    "y_pred = np.dot(X_norm, w_norm) + b_norm  \n",
    "print(f\"prediction using np.dot() and sgdr.predict match: {(y_pred == y_pred_sgd).all()}\")\n",
    "\n",
    "print(f\"Prediction on training set:\\n{y_pred[:4]}\" )\n",
    "print(f\"Target values \\n{y_train[:4]}\")"
   ]
  }
 ],
 "metadata": {
  "kernelspec": {
   "display_name": "Python 3",
   "language": "python",
   "name": "python3"
  },
  "language_info": {
   "codemirror_mode": {
    "name": "ipython",
    "version": 3
   },
   "file_extension": ".py",
   "mimetype": "text/x-python",
   "name": "python",
   "nbconvert_exporter": "python",
   "pygments_lexer": "ipython3",
   "version": "3.7.12"
  },
  "papermill": {
   "default_parameters": {},
   "duration": 35.63148,
   "end_time": "2023-01-20T08:19:26.868716",
   "environment_variables": {},
   "exception": null,
   "input_path": "__notebook__.ipynb",
   "output_path": "__notebook__.ipynb",
   "parameters": {},
   "start_time": "2023-01-20T08:18:51.237236",
   "version": "2.3.4"
  }
 },
 "nbformat": 4,
 "nbformat_minor": 5
}
