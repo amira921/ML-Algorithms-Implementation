{
 "cells": [
  {
   "cell_type": "markdown",
   "id": "0253bf7c",
   "metadata": {
    "papermill": {
     "duration": 0.006027,
     "end_time": "2023-01-20T09:55:46.794102",
     "exception": false,
     "start_time": "2023-01-20T09:55:46.788075",
     "status": "completed"
    },
    "tags": []
   },
   "source": [
    "# Decision Tree Implementation from Scratch"
   ]
  },
  {
   "cell_type": "code",
   "execution_count": 1,
   "id": "50a01582",
   "metadata": {
    "execution": {
     "iopub.execute_input": "2023-01-20T09:55:46.806215Z",
     "iopub.status.busy": "2023-01-20T09:55:46.805639Z",
     "iopub.status.idle": "2023-01-20T09:55:46.818506Z",
     "shell.execute_reply": "2023-01-20T09:55:46.816892Z"
    },
    "papermill": {
     "duration": 0.022565,
     "end_time": "2023-01-20T09:55:46.821583",
     "exception": false,
     "start_time": "2023-01-20T09:55:46.799018",
     "status": "completed"
    },
    "tags": []
   },
   "outputs": [],
   "source": [
    "import pandas as pd\n",
    "import numpy as np"
   ]
  },
  {
   "cell_type": "markdown",
   "id": "67eb2b8c",
   "metadata": {
    "papermill": {
     "duration": 0.004312,
     "end_time": "2023-01-20T09:55:46.830850",
     "exception": false,
     "start_time": "2023-01-20T09:55:46.826538",
     "status": "completed"
    },
    "tags": []
   },
   "source": [
    "## Dataset"
   ]
  },
  {
   "cell_type": "code",
   "execution_count": 2,
   "id": "eb99c5c0",
   "metadata": {
    "execution": {
     "iopub.execute_input": "2023-01-20T09:55:46.842926Z",
     "iopub.status.busy": "2023-01-20T09:55:46.842042Z",
     "iopub.status.idle": "2023-01-20T09:55:46.877396Z",
     "shell.execute_reply": "2023-01-20T09:55:46.876009Z"
    },
    "papermill": {
     "duration": 0.046246,
     "end_time": "2023-01-20T09:55:46.881671",
     "exception": false,
     "start_time": "2023-01-20T09:55:46.835425",
     "status": "completed"
    },
    "tags": []
   },
   "outputs": [
    {
     "data": {
      "text/html": [
       "<div>\n",
       "<style scoped>\n",
       "    .dataframe tbody tr th:only-of-type {\n",
       "        vertical-align: middle;\n",
       "    }\n",
       "\n",
       "    .dataframe tbody tr th {\n",
       "        vertical-align: top;\n",
       "    }\n",
       "\n",
       "    .dataframe thead th {\n",
       "        text-align: right;\n",
       "    }\n",
       "</style>\n",
       "<table border=\"1\" class=\"dataframe\">\n",
       "  <thead>\n",
       "    <tr style=\"text-align: right;\">\n",
       "      <th></th>\n",
       "      <th>Brown_Cap</th>\n",
       "      <th>Tapering_Stalk_Shape</th>\n",
       "      <th>Solitary</th>\n",
       "      <th>Edible</th>\n",
       "    </tr>\n",
       "  </thead>\n",
       "  <tbody>\n",
       "    <tr>\n",
       "      <th>0</th>\n",
       "      <td>1</td>\n",
       "      <td>1</td>\n",
       "      <td>1</td>\n",
       "      <td>1</td>\n",
       "    </tr>\n",
       "    <tr>\n",
       "      <th>1</th>\n",
       "      <td>1</td>\n",
       "      <td>0</td>\n",
       "      <td>1</td>\n",
       "      <td>1</td>\n",
       "    </tr>\n",
       "    <tr>\n",
       "      <th>2</th>\n",
       "      <td>1</td>\n",
       "      <td>0</td>\n",
       "      <td>0</td>\n",
       "      <td>0</td>\n",
       "    </tr>\n",
       "    <tr>\n",
       "      <th>3</th>\n",
       "      <td>1</td>\n",
       "      <td>0</td>\n",
       "      <td>0</td>\n",
       "      <td>0</td>\n",
       "    </tr>\n",
       "    <tr>\n",
       "      <th>4</th>\n",
       "      <td>1</td>\n",
       "      <td>1</td>\n",
       "      <td>1</td>\n",
       "      <td>1</td>\n",
       "    </tr>\n",
       "    <tr>\n",
       "      <th>5</th>\n",
       "      <td>0</td>\n",
       "      <td>1</td>\n",
       "      <td>1</td>\n",
       "      <td>0</td>\n",
       "    </tr>\n",
       "    <tr>\n",
       "      <th>6</th>\n",
       "      <td>0</td>\n",
       "      <td>0</td>\n",
       "      <td>0</td>\n",
       "      <td>0</td>\n",
       "    </tr>\n",
       "    <tr>\n",
       "      <th>7</th>\n",
       "      <td>1</td>\n",
       "      <td>0</td>\n",
       "      <td>1</td>\n",
       "      <td>1</td>\n",
       "    </tr>\n",
       "    <tr>\n",
       "      <th>8</th>\n",
       "      <td>0</td>\n",
       "      <td>1</td>\n",
       "      <td>0</td>\n",
       "      <td>1</td>\n",
       "    </tr>\n",
       "    <tr>\n",
       "      <th>9</th>\n",
       "      <td>1</td>\n",
       "      <td>0</td>\n",
       "      <td>0</td>\n",
       "      <td>0</td>\n",
       "    </tr>\n",
       "  </tbody>\n",
       "</table>\n",
       "</div>"
      ],
      "text/plain": [
       "   Brown_Cap  Tapering_Stalk_Shape  Solitary  Edible\n",
       "0          1                     1         1       1\n",
       "1          1                     0         1       1\n",
       "2          1                     0         0       0\n",
       "3          1                     0         0       0\n",
       "4          1                     1         1       1\n",
       "5          0                     1         1       0\n",
       "6          0                     0         0       0\n",
       "7          1                     0         1       1\n",
       "8          0                     1         0       1\n",
       "9          1                     0         0       0"
      ]
     },
     "execution_count": 2,
     "metadata": {},
     "output_type": "execute_result"
    }
   ],
   "source": [
    "X = np.array([[1,1,1],[1,0,1],[1,0,0],[1,0,0],[1,1,1],[0,1,1],[0,0,0],[1,0,1],[0,1,0],[1,0,0]])\n",
    "y = np.array([1,1,0,0,1,0,0,1,1,0])\n",
    "\n",
    "X_train  = pd.DataFrame(X ,columns=['Brown_Cap','Tapering_Stalk_Shape','Solitary'],index=[0,1,2,3,4,5,6,7,8,9])\n",
    "y_train  = pd.DataFrame(y ,columns=['Edible'],index=[0,1,2,3,4,5,6,7,8,9])\n",
    "\n",
    "frames = [X_train , y_train]\n",
    "dataset = pd.concat(frames,axis=1)\n",
    "dataset.head(10)"
   ]
  },
  {
   "cell_type": "markdown",
   "id": "cb408f6c",
   "metadata": {
    "papermill": {
     "duration": 0.004474,
     "end_time": "2023-01-20T09:55:46.891222",
     "exception": false,
     "start_time": "2023-01-20T09:55:46.886748",
     "status": "completed"
    },
    "tags": []
   },
   "source": [
    "## Model"
   ]
  },
  {
   "cell_type": "markdown",
   "id": "d0b9a36c",
   "metadata": {
    "papermill": {
     "duration": 0.004324,
     "end_time": "2023-01-20T09:55:46.900350",
     "exception": false,
     "start_time": "2023-01-20T09:55:46.896026",
     "status": "completed"
    },
    "tags": []
   },
   "source": [
    "in a decision tree, we decide if a node will be split or not by looking at the **information gain** that split would give us. \n",
    "Where \n",
    "\n",
    "$$\\text{Information Gain} = H(p_1^\\text{node})- \\left(w^{\\text{left}}H\\left(p_1^\\text{left}\\right) + w^{\\text{right}}H\\left(p_1^\\text{right}\\right)\\right),$$\n",
    "\n",
    "and $H$ is the entropy, defined as\n",
    "\n",
    "$$H(p_1) = -p_1 \\text{log}_2(p_1) - (1- p_1) \\text{log}_2(1- p_1)$$\n",
    "\n",
    "weighted entropy, defined as\n",
    "\n",
    "$$\\text{weighted entropy} = \\left (w^{\\text{left}}H\\left(p_1^\\text{left}\\right) + w^{\\text{right}}H\\left(p_1^\\text{right}\\right)\\right)$$\n",
    "\n",
    "So, the root node has every animal in our dataset. Remember that $p_1^{node}$ is the proportion of positive class (cats) in the root node."
   ]
  },
  {
   "cell_type": "code",
   "execution_count": 3,
   "id": "4934cb6b",
   "metadata": {
    "execution": {
     "iopub.execute_input": "2023-01-20T09:55:46.912030Z",
     "iopub.status.busy": "2023-01-20T09:55:46.911527Z",
     "iopub.status.idle": "2023-01-20T09:55:46.918013Z",
     "shell.execute_reply": "2023-01-20T09:55:46.916503Z"
    },
    "papermill": {
     "duration": 0.015503,
     "end_time": "2023-01-20T09:55:46.920572",
     "exception": false,
     "start_time": "2023-01-20T09:55:46.905069",
     "status": "completed"
    },
    "tags": []
   },
   "outputs": [],
   "source": [
    "root_indices = [0, 1, 2, 3, 4, 5, 6, 7, 8, 9]"
   ]
  },
  {
   "cell_type": "code",
   "execution_count": 4,
   "id": "5bfbd15f",
   "metadata": {
    "execution": {
     "iopub.execute_input": "2023-01-20T09:55:46.932575Z",
     "iopub.status.busy": "2023-01-20T09:55:46.932067Z",
     "iopub.status.idle": "2023-01-20T09:55:46.939834Z",
     "shell.execute_reply": "2023-01-20T09:55:46.938157Z"
    },
    "papermill": {
     "duration": 0.016972,
     "end_time": "2023-01-20T09:55:46.942530",
     "exception": false,
     "start_time": "2023-01-20T09:55:46.925558",
     "status": "completed"
    },
    "tags": []
   },
   "outputs": [],
   "source": [
    "def entropy(y):\n",
    "    entropy = 0\n",
    "    \n",
    "    if len(y) != 0:\n",
    "        p = len(y[y==1]) / len(y)       \n",
    "        if p == 0 or p == 1:  entropy =  0\n",
    "        else: entropy = -p * np.log2(p) - ((1-p) * np.log2(1-p))\n",
    "            \n",
    "    return entropy"
   ]
  },
  {
   "cell_type": "code",
   "execution_count": 5,
   "id": "3367815b",
   "metadata": {
    "execution": {
     "iopub.execute_input": "2023-01-20T09:55:46.955346Z",
     "iopub.status.busy": "2023-01-20T09:55:46.954860Z",
     "iopub.status.idle": "2023-01-20T09:55:46.961574Z",
     "shell.execute_reply": "2023-01-20T09:55:46.960152Z"
    },
    "papermill": {
     "duration": 0.016626,
     "end_time": "2023-01-20T09:55:46.964312",
     "exception": false,
     "start_time": "2023-01-20T09:55:46.947686",
     "status": "completed"
    },
    "tags": []
   },
   "outputs": [],
   "source": [
    "def split_indices(X, node_indices,feature):\n",
    "    left_indices = [] \n",
    "    right_indices = []\n",
    "    \n",
    "    for i in node_indices:\n",
    "        if X[i][feature] == 1: left_indices.append(i)\n",
    "        else: right_indices.append(i)\n",
    "    \n",
    "    return left_indices, right_indices"
   ]
  },
  {
   "cell_type": "code",
   "execution_count": 6,
   "id": "3a24c644",
   "metadata": {
    "execution": {
     "iopub.execute_input": "2023-01-20T09:55:46.977310Z",
     "iopub.status.busy": "2023-01-20T09:55:46.976806Z",
     "iopub.status.idle": "2023-01-20T09:55:46.985493Z",
     "shell.execute_reply": "2023-01-20T09:55:46.983750Z"
    },
    "papermill": {
     "duration": 0.018577,
     "end_time": "2023-01-20T09:55:46.988378",
     "exception": false,
     "start_time": "2023-01-20T09:55:46.969801",
     "status": "completed"
    },
    "tags": []
   },
   "outputs": [],
   "source": [
    "def information_gain(X,y,node_indices, feature):\n",
    "    left_indices, right_indices = split_indices(X, node_indices, feature)\n",
    "    \n",
    "    y_node = y[node_indices]\n",
    "    y_left = y[left_indices]\n",
    "    y_right = y[right_indices]\n",
    "    \n",
    "    node_entropy = entropy(y_node)\n",
    "    left_entropy = entropy(y_left)\n",
    "    right_entropy = entropy(y_right)\n",
    "    \n",
    "    w_left = len(y_left) / len(y_node)\n",
    "    w_right = len(y_right) / len(y_node)\n",
    "    \n",
    "    weighted_entropy = w_left * left_entropy + w_right * right_entropy\n",
    "    information_gain = node_entropy - weighted_entropy\n",
    "    \n",
    "    return information_gain"
   ]
  },
  {
   "cell_type": "code",
   "execution_count": 7,
   "id": "d434a25c",
   "metadata": {
    "execution": {
     "iopub.execute_input": "2023-01-20T09:55:47.000786Z",
     "iopub.status.busy": "2023-01-20T09:55:47.000277Z",
     "iopub.status.idle": "2023-01-20T09:55:47.007531Z",
     "shell.execute_reply": "2023-01-20T09:55:47.006169Z"
    },
    "papermill": {
     "duration": 0.017175,
     "end_time": "2023-01-20T09:55:47.010669",
     "exception": false,
     "start_time": "2023-01-20T09:55:46.993494",
     "status": "completed"
    },
    "tags": []
   },
   "outputs": [],
   "source": [
    "def get_best_split(X,y,node_indices):\n",
    "    num_features = X.shape[1]\n",
    "    best_feature = -1\n",
    "    max_info_gain = 0\n",
    "    \n",
    "    for feature in range(num_features):\n",
    "        gain = information_gain(X, y,node_indices, feature)\n",
    "        \n",
    "        if gain > max_info_gain:  \n",
    "            max_info_gain = gain\n",
    "            best_feature = feature \n",
    "\n",
    "    return best_feature"
   ]
  },
  {
   "cell_type": "code",
   "execution_count": 8,
   "id": "9d03dcc5",
   "metadata": {
    "execution": {
     "iopub.execute_input": "2023-01-20T09:55:47.023271Z",
     "iopub.status.busy": "2023-01-20T09:55:47.022672Z",
     "iopub.status.idle": "2023-01-20T09:55:47.032769Z",
     "shell.execute_reply": "2023-01-20T09:55:47.031123Z"
    },
    "papermill": {
     "duration": 0.020382,
     "end_time": "2023-01-20T09:55:47.036144",
     "exception": false,
     "start_time": "2023-01-20T09:55:47.015762",
     "status": "completed"
    },
    "tags": []
   },
   "outputs": [],
   "source": [
    "tree = []\n",
    "\n",
    "def build_tree_recursive(X, y, node_indices, branch_name, max_depth, current_depth):\n",
    "    # stopping criteria\n",
    "    if current_depth == max_depth:\n",
    "        print( branch_name ,\" leaf node with indices \" , node_indices)\n",
    "        return\n",
    "    \n",
    "    best_feature = get_best_split(X, y, node_indices) \n",
    "    print(\"Depth %d, %s: Split on feature: %d\" % (current_depth, branch_name, best_feature))\n",
    "    \n",
    "    left_indices, right_indices = split_indices(X, node_indices, best_feature)\n",
    "    tree.append((left_indices, right_indices, best_feature))\n",
    "    \n",
    "    build_tree_recursive(X, y, left_indices, \"Left\", max_depth, current_depth+1)\n",
    "    build_tree_recursive(X, y, right_indices, \"Right\", max_depth, current_depth+1)"
   ]
  },
  {
   "cell_type": "code",
   "execution_count": 9,
   "id": "02c5fdb6",
   "metadata": {
    "execution": {
     "iopub.execute_input": "2023-01-20T09:55:47.049226Z",
     "iopub.status.busy": "2023-01-20T09:55:47.048585Z",
     "iopub.status.idle": "2023-01-20T09:55:47.056747Z",
     "shell.execute_reply": "2023-01-20T09:55:47.055315Z"
    },
    "papermill": {
     "duration": 0.017806,
     "end_time": "2023-01-20T09:55:47.059664",
     "exception": false,
     "start_time": "2023-01-20T09:55:47.041858",
     "status": "completed"
    },
    "tags": []
   },
   "outputs": [
    {
     "name": "stdout",
     "output_type": "stream",
     "text": [
      "Depth 0, Root: Split on feature: 2\n",
      "Depth 1, Left: Split on feature: 0\n",
      "Left  leaf node with indices  [0, 1, 4, 7]\n",
      "Right  leaf node with indices  [5]\n",
      "Depth 1, Right: Split on feature: 1\n",
      "Left  leaf node with indices  [8]\n",
      "Right  leaf node with indices  [2, 3, 6, 9]\n"
     ]
    }
   ],
   "source": [
    "build_tree_recursive(X, y, root_indices, \"Root\", 2, 0)"
   ]
  },
  {
   "cell_type": "code",
   "execution_count": 10,
   "id": "d533d3cd",
   "metadata": {
    "execution": {
     "iopub.execute_input": "2023-01-20T09:55:47.073178Z",
     "iopub.status.busy": "2023-01-20T09:55:47.071774Z",
     "iopub.status.idle": "2023-01-20T09:55:47.081422Z",
     "shell.execute_reply": "2023-01-20T09:55:47.080438Z"
    },
    "papermill": {
     "duration": 0.018749,
     "end_time": "2023-01-20T09:55:47.083842",
     "exception": false,
     "start_time": "2023-01-20T09:55:47.065093",
     "status": "completed"
    },
    "tags": []
   },
   "outputs": [
    {
     "name": "stdout",
     "output_type": "stream",
     "text": [
      "1\n",
      "1\n",
      "0\n",
      "0\n",
      "0\n"
     ]
    }
   ],
   "source": [
    "def predict(x):      \n",
    "    if x[2] == 1:\n",
    "        if x[0] == 1: return 1\n",
    "        elif x[0] == 0: return 0\n",
    "        \n",
    "    elif x[2] == 0:\n",
    "        if x[1] == 1: return 1\n",
    "        elif x[1] == 0: return 0\n",
    "        \n",
    "print(predict([1,1,1]))\n",
    "print(predict([1,0,1]))\n",
    "print(predict([1,0,0]))\n",
    "print(predict([0,1,1]))\n",
    "print(predict([1,0,0]))"
   ]
  },
  {
   "cell_type": "markdown",
   "id": "ae999814",
   "metadata": {
    "papermill": {
     "duration": 0.004831,
     "end_time": "2023-01-20T09:55:47.093881",
     "exception": false,
     "start_time": "2023-01-20T09:55:47.089050",
     "status": "completed"
    },
    "tags": []
   },
   "source": [
    "# Using scikit learn"
   ]
  },
  {
   "cell_type": "code",
   "execution_count": 11,
   "id": "17fb0776",
   "metadata": {
    "execution": {
     "iopub.execute_input": "2023-01-20T09:55:47.106743Z",
     "iopub.status.busy": "2023-01-20T09:55:47.106218Z",
     "iopub.status.idle": "2023-01-20T09:55:48.717092Z",
     "shell.execute_reply": "2023-01-20T09:55:48.715158Z"
    },
    "papermill": {
     "duration": 1.621247,
     "end_time": "2023-01-20T09:55:48.720450",
     "exception": false,
     "start_time": "2023-01-20T09:55:47.099203",
     "status": "completed"
    },
    "tags": []
   },
   "outputs": [
    {
     "name": "stdout",
     "output_type": "stream",
     "text": [
      "1.0\n"
     ]
    }
   ],
   "source": [
    "from sklearn.tree import DecisionTreeClassifier\n",
    "\n",
    "clf = DecisionTreeClassifier()\n",
    "clf.fit(X_train, y_train)\n",
    "y_pred_clf = clf.score(X_train , y_train)\n",
    "print(y_pred_clf)"
   ]
  }
 ],
 "metadata": {
  "kernelspec": {
   "display_name": "Python 3",
   "language": "python",
   "name": "python3"
  },
  "language_info": {
   "codemirror_mode": {
    "name": "ipython",
    "version": 3
   },
   "file_extension": ".py",
   "mimetype": "text/x-python",
   "name": "python",
   "nbconvert_exporter": "python",
   "pygments_lexer": "ipython3",
   "version": "3.7.12"
  },
  "papermill": {
   "default_parameters": {},
   "duration": 12.864422,
   "end_time": "2023-01-20T09:55:49.653631",
   "environment_variables": {},
   "exception": null,
   "input_path": "__notebook__.ipynb",
   "output_path": "__notebook__.ipynb",
   "parameters": {},
   "start_time": "2023-01-20T09:55:36.789209",
   "version": "2.3.4"
  }
 },
 "nbformat": 4,
 "nbformat_minor": 5
}
