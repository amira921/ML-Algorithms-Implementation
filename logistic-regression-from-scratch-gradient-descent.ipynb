{
 "cells": [
  {
   "cell_type": "markdown",
   "id": "c19f2e69",
   "metadata": {
    "papermill": {
     "duration": 0.00718,
     "end_time": "2023-01-20T09:04:36.049161",
     "exception": false,
     "start_time": "2023-01-20T09:04:36.041981",
     "status": "completed"
    },
    "tags": []
   },
   "source": [
    "## Import libraries"
   ]
  },
  {
   "cell_type": "code",
   "execution_count": 1,
   "id": "9c6d2c5e",
   "metadata": {
    "execution": {
     "iopub.execute_input": "2023-01-20T09:04:36.063678Z",
     "iopub.status.busy": "2023-01-20T09:04:36.062905Z",
     "iopub.status.idle": "2023-01-20T09:04:36.072595Z",
     "shell.execute_reply": "2023-01-20T09:04:36.071693Z"
    },
    "papermill": {
     "duration": 0.019718,
     "end_time": "2023-01-20T09:04:36.074876",
     "exception": false,
     "start_time": "2023-01-20T09:04:36.055158",
     "status": "completed"
    },
    "tags": []
   },
   "outputs": [],
   "source": [
    "import numpy as np\n",
    "import matplotlib.pyplot as plt\n",
    "import math"
   ]
  },
  {
   "cell_type": "markdown",
   "id": "cce25f0a",
   "metadata": {
    "papermill": {
     "duration": 0.005439,
     "end_time": "2023-01-20T09:04:36.086168",
     "exception": false,
     "start_time": "2023-01-20T09:04:36.080729",
     "status": "completed"
    },
    "tags": []
   },
   "source": [
    "## Load Data\n"
   ]
  },
  {
   "cell_type": "code",
   "execution_count": 2,
   "id": "243b9808",
   "metadata": {
    "execution": {
     "iopub.execute_input": "2023-01-20T09:04:36.099810Z",
     "iopub.status.busy": "2023-01-20T09:04:36.099065Z",
     "iopub.status.idle": "2023-01-20T09:04:36.119627Z",
     "shell.execute_reply": "2023-01-20T09:04:36.118404Z"
    },
    "papermill": {
     "duration": 0.030559,
     "end_time": "2023-01-20T09:04:36.122485",
     "exception": false,
     "start_time": "2023-01-20T09:04:36.091926",
     "status": "completed"
    },
    "tags": []
   },
   "outputs": [],
   "source": [
    "X_train  = np.array([[34.62365962, 78.02469282],\n",
    "       [30.28671077, 43.89499752],\n",
    "       [35.84740877, 72.90219803],\n",
    "       [60.18259939, 86.3085521 ],\n",
    "       [79.03273605, 75.34437644],\n",
    "       [45.08327748, 56.31637178],\n",
    "       [61.10666454, 96.51142588],\n",
    "       [75.02474557, 46.55401354],\n",
    "       [76.0987867 , 87.42056972],\n",
    "       [84.43281996, 43.53339331],\n",
    "       [95.86155507, 38.22527806],\n",
    "       [75.01365839, 30.60326323],\n",
    "       [82.30705337, 76.4819633 ],\n",
    "       [69.36458876, 97.71869196],\n",
    "       [39.53833914, 76.03681085],\n",
    "       [53.97105215, 89.20735014],\n",
    "       [69.07014406, 52.74046973],\n",
    "       [67.94685548, 46.67857411],\n",
    "       [70.66150955, 92.92713789],\n",
    "       [76.97878373, 47.57596365],\n",
    "       [67.37202755, 42.83843832],\n",
    "       [89.67677575, 65.79936593],\n",
    "       [50.53478829, 48.85581153],\n",
    "       [34.21206098, 44.2095286 ],\n",
    "       [77.92409145, 68.97235999],\n",
    "       [62.27101367, 69.95445795],\n",
    "       [80.19018075, 44.82162893],\n",
    "       [93.1143888 , 38.80067034],\n",
    "       [61.83020602, 50.25610789],\n",
    "       [38.7858038 , 64.99568096],\n",
    "       [61.37928945, 72.80788731],\n",
    "       [85.40451939, 57.05198398],\n",
    "       [52.10797973, 63.12762377],\n",
    "       [52.04540477, 69.43286012],\n",
    "       [40.23689374, 71.16774802],\n",
    "       [54.63510555, 52.21388588],\n",
    "       [33.91550011, 98.86943574],\n",
    "       [64.17698887, 80.90806059],\n",
    "       [74.78925296, 41.57341523],\n",
    "       [34.18364003, 75.23772034],\n",
    "       [83.90239366, 56.30804622],\n",
    "       [51.54772027, 46.85629026],\n",
    "       [94.44336777, 65.56892161],\n",
    "       [82.36875376, 40.61825516],\n",
    "       [51.04775177, 45.82270146],\n",
    "       [62.22267576, 52.06099195],\n",
    "       [77.19303493, 70.4582    ],\n",
    "       [97.77159928, 86.72782233],\n",
    "       [62.0730638 , 96.76882412],\n",
    "       [91.5649745 , 88.69629255],\n",
    "       [79.94481794, 74.16311935],\n",
    "       [99.27252693, 60.999031  ],\n",
    "       [90.54671411, 43.39060181],\n",
    "       [34.52451385, 60.39634246],\n",
    "       [50.28649612, 49.80453881],\n",
    "       [49.58667722, 59.80895099],\n",
    "       [97.64563396, 68.86157272],\n",
    "       [32.57720017, 95.59854761],\n",
    "       [74.24869137, 69.82457123],\n",
    "       [71.79646206, 78.45356225],\n",
    "       [75.39561147, 85.75993667],\n",
    "       [35.28611282, 47.02051395],\n",
    "       [56.2538175 , 39.26147251],\n",
    "       [30.05882245, 49.59297387],\n",
    "       [44.66826172, 66.45008615],\n",
    "       [66.56089447, 41.09209808],\n",
    "       [40.45755098, 97.53518549],\n",
    "       [49.07256322, 51.88321182],\n",
    "       [80.27957401, 92.11606081],\n",
    "       [66.74671857, 60.99139403],\n",
    "       [32.72283304, 43.30717306],\n",
    "       [64.03932042, 78.03168802],\n",
    "       [72.34649423, 96.22759297],\n",
    "       [60.45788574, 73.0949981 ],\n",
    "       [58.84095622, 75.85844831],\n",
    "       [99.8278578 , 72.36925193],\n",
    "       [47.26426911, 88.475865  ],\n",
    "       [50.4581598 , 75.80985953],\n",
    "       [60.45555629, 42.50840944],\n",
    "       [82.22666158, 42.71987854],\n",
    "       [88.91389642, 69.8037889 ],\n",
    "       [94.83450672, 45.6943068 ],\n",
    "       [67.31925747, 66.58935318],\n",
    "       [57.23870632, 59.51428198],\n",
    "       [80.366756  , 90.9601479 ],\n",
    "       [68.46852179, 85.5943071 ],\n",
    "       [42.07545454, 78.844786  ],\n",
    "       [75.47770201, 90.424539  ],\n",
    "       [78.63542435, 96.64742717],\n",
    "       [52.34800399, 60.76950526],\n",
    "       [94.09433113, 77.15910509],\n",
    "       [90.44855097, 87.50879176],\n",
    "       [55.48216114, 35.57070347],\n",
    "       [74.49269242, 84.84513685],\n",
    "       [89.84580671, 45.35828361],\n",
    "       [83.48916274, 48.3802858 ],\n",
    "       [42.26170081, 87.10385094],\n",
    "       [99.31500881, 68.77540947],\n",
    "       [55.34001756, 64.93193801],\n",
    "       [74.775893  , 89.5298129 ]])\n",
    "\n",
    "y_train  = np.array([0., 0., 0., 1., 1., 0., 1., 1., 1., 1., 0., 0., 1., 1., 0., 1., 1., 0., 1., 1., 0., 1., 0., 0., 1., 1., 1., 0., 0., 0., 1., 1., 0., 1.,\n",
    "            0., 0., 0., 1., 0., 0., 1., 0., 1., 0., 0., 0., 1., 1., 1., 1., 1.,1., 1., 0., 0., 0., 1., 0., 1., 1., 1., 0., 0., 0., 0., 0., 1., 0.,\n",
    "            1., 1., 0., 1., 1., 1., 1., 1., 1., 1., 0., 0., 1., 1., 1., 1., 1., 1., 0., 1., 1., 0., 1., 1., 0., 1., 1., 1., 1., 1., 1., 1.])"
   ]
  },
  {
   "cell_type": "markdown",
   "id": "e1e43379",
   "metadata": {
    "papermill": {
     "duration": 0.005477,
     "end_time": "2023-01-20T09:04:36.133750",
     "exception": false,
     "start_time": "2023-01-20T09:04:36.128273",
     "status": "completed"
    },
    "tags": []
   },
   "source": [
    "## Compute Cost Function"
   ]
  },
  {
   "cell_type": "markdown",
   "id": "cfa8d69b",
   "metadata": {
    "papermill": {
     "duration": 0.005355,
     "end_time": "2023-01-20T09:04:36.144874",
     "exception": false,
     "start_time": "2023-01-20T09:04:36.139519",
     "status": "completed"
    },
    "tags": []
   },
   "source": [
    "### &nbsp;&nbsp;compute sigmoid function\n",
    "\n",
    "$$ f_{\\mathbf{w},b}(x) = g(\\mathbf{w}\\cdot \\mathbf{x} + b)$$\n",
    "     where function $g$ is the sigmoid function. The sigmoid function is defined as:\n",
    "\n",
    "$$g(z) = \\frac{1}{1+e^{-z}}$$\n"
   ]
  },
  {
   "cell_type": "code",
   "execution_count": 3,
   "id": "1f6bb5e1",
   "metadata": {
    "execution": {
     "iopub.execute_input": "2023-01-20T09:04:36.158052Z",
     "iopub.status.busy": "2023-01-20T09:04:36.157629Z",
     "iopub.status.idle": "2023-01-20T09:04:36.162714Z",
     "shell.execute_reply": "2023-01-20T09:04:36.161897Z"
    },
    "papermill": {
     "duration": 0.014379,
     "end_time": "2023-01-20T09:04:36.164941",
     "exception": false,
     "start_time": "2023-01-20T09:04:36.150562",
     "status": "completed"
    },
    "tags": []
   },
   "outputs": [],
   "source": [
    "def sigmoid(z):\n",
    "    g = 1 / (1 + 1*np.exp(-1*z))\n",
    "    return g"
   ]
  },
  {
   "cell_type": "markdown",
   "id": "7b46866f",
   "metadata": {
    "papermill": {
     "duration": 0.005427,
     "end_time": "2023-01-20T09:04:36.176238",
     "exception": false,
     "start_time": "2023-01-20T09:04:36.170811",
     "status": "completed"
    },
    "tags": []
   },
   "source": [
    "### &nbsp;&nbsp; compute cost function\n",
    "\n",
    "$$ J(\\mathbf{w},b) = \\frac{1}{m}\\sum_{i=0}^{m-1} \\left[ loss(f_{\\mathbf{w},b}(\\mathbf{x}^{(i)}), y^{(i)}) \\right] $$\n",
    "\n",
    "where\n",
    "* m is the number of training examples in the dataset\n",
    "\n",
    "\n",
    "* $loss(f_{\\mathbf{w},b}(\\mathbf{x}^{(i)}), y^{(i)})$ is the cost for a single data point, which is - \n",
    "\n",
    "    $$loss(f_{\\mathbf{w},b}(\\mathbf{x}^{(i)}), y^{(i)}) = (-y^{(i)} \\log\\left(f_{\\mathbf{w},b}\\left( \\mathbf{x}^{(i)} \\right) \\right) - \\left( 1 - y^{(i)}\\right) \\log \\left( 1 - f_{\\mathbf{w},b}\\left( \\mathbf{x}^{(i)} \\right) \\right) $$\n",
    "    \n",
    "    \n",
    "*  $f_{\\mathbf{w},b}(\\mathbf{x}^{(i)})$ is the model's prediction, while $y^{(i)}$, which is the actual label\n",
    "\n",
    "*  $f_{\\mathbf{w},b}(\\mathbf{x}^{(i)}) = g(\\mathbf{w} \\cdot \\mathbf{x^{(i)}} + b)$ where function $g$ is the sigmoid function."
   ]
  },
  {
   "cell_type": "code",
   "execution_count": 4,
   "id": "837009a5",
   "metadata": {
    "execution": {
     "iopub.execute_input": "2023-01-20T09:04:36.191654Z",
     "iopub.status.busy": "2023-01-20T09:04:36.190988Z",
     "iopub.status.idle": "2023-01-20T09:04:36.197326Z",
     "shell.execute_reply": "2023-01-20T09:04:36.196456Z"
    },
    "papermill": {
     "duration": 0.016185,
     "end_time": "2023-01-20T09:04:36.199989",
     "exception": false,
     "start_time": "2023-01-20T09:04:36.183804",
     "status": "completed"
    },
    "tags": []
   },
   "outputs": [],
   "source": [
    "def cost_function(X,y,w,b):\n",
    "    m = X.shape[0]\n",
    "    loss = 0\n",
    "    for i in range(m):\n",
    "        z = np.dot(X[i],w)+b\n",
    "        Fwb_i = sigmoid(z) \n",
    "        loss += -1 *( (y[i]*np.log(Fwb_i)) + ((1-y[i])*np.log(1-Fwb_i)) )\n",
    "    cost = loss / m\n",
    "    return cost"
   ]
  },
  {
   "cell_type": "markdown",
   "id": "c55c7a7b",
   "metadata": {
    "papermill": {
     "duration": 0.005743,
     "end_time": "2023-01-20T09:04:36.211829",
     "exception": false,
     "start_time": "2023-01-20T09:04:36.206086",
     "status": "completed"
    },
    "tags": []
   },
   "source": [
    "## Compute Gradient Descent\n",
    "\n",
    "$$\\begin{align*}& \\text{repeat until convergence:} \\; \\lbrace \\newline \\; & b := b -  \\alpha \\frac{\\partial J(\\mathbf{w},b)}{\\partial b} \\newline       \\; & w_j := w_j -  \\alpha \\frac{\\partial J(\\mathbf{w},b)}{\\partial w_j}  \\; & \\text{for j := 0..n-1}\\newline & \\rbrace\\end{align*}$$\n",
    "\n",
    "$\\frac{\\partial J(\\mathbf{w},b)}{\\partial w}$, $\\frac{\\partial J(\\mathbf{w},b)}{\\partial b}$\n",
    "\n",
    "$$\n",
    "\\frac{\\partial J(\\mathbf{w},b)}{\\partial b}  = \\frac{1}{m} \\sum\\limits_{i = 0}^{m-1} (f_{\\mathbf{w},b}(\\mathbf{x}^{(i)}) - \\mathbf{y}^{(i)})\n",
    "$$\n",
    "$$\n",
    "\\frac{\\partial J(\\mathbf{w},b)}{\\partial w_j}  = \\frac{1}{m} \\sum\\limits_{i = 0}^{m-1} (f_{\\mathbf{w},b}(\\mathbf{x}^{(i)}) - \\mathbf{y}^{(i)})x_{j}^{(i)}\n",
    "$$\n",
    "* m is the number of training examples in the dataset\n",
    "\n",
    "    \n",
    "*  $f_{\\mathbf{w},b}(x^{(i)})$ is the model's prediction, while $y^{(i)}$ is the actual label"
   ]
  },
  {
   "cell_type": "markdown",
   "id": "611a625a",
   "metadata": {
    "papermill": {
     "duration": 0.005481,
     "end_time": "2023-01-20T09:04:36.223476",
     "exception": false,
     "start_time": "2023-01-20T09:04:36.217995",
     "status": "completed"
    },
    "tags": []
   },
   "source": [
    "### &nbsp;&nbsp; compute derivative part"
   ]
  },
  {
   "cell_type": "code",
   "execution_count": 5,
   "id": "775aacaf",
   "metadata": {
    "execution": {
     "iopub.execute_input": "2023-01-20T09:04:36.237172Z",
     "iopub.status.busy": "2023-01-20T09:04:36.236796Z",
     "iopub.status.idle": "2023-01-20T09:04:36.243389Z",
     "shell.execute_reply": "2023-01-20T09:04:36.242504Z"
    },
    "papermill": {
     "duration": 0.016135,
     "end_time": "2023-01-20T09:04:36.245458",
     "exception": false,
     "start_time": "2023-01-20T09:04:36.229323",
     "status": "completed"
    },
    "tags": []
   },
   "outputs": [],
   "source": [
    "def derivative(X,y,w,b):\n",
    "    m,n = X.shape\n",
    "    dw = np.zeros(w.shape)\n",
    "    db = 0\n",
    "    \n",
    "    for i in range(m):\n",
    "        z = np.dot(X[i],w) + b\n",
    "        Fwb_i = sigmoid(z)\n",
    "        error = Fwb_i - y[i]\n",
    "        \n",
    "        for j in range(n):\n",
    "            dw[j] += (error * X[i,j])\n",
    "            \n",
    "        db += error \n",
    "    \n",
    "    dw = dw / m\n",
    "    db = db / m\n",
    "    \n",
    "    return db,dw"
   ]
  },
  {
   "cell_type": "markdown",
   "id": "3338f905",
   "metadata": {
    "papermill": {
     "duration": 0.006063,
     "end_time": "2023-01-20T09:04:36.258573",
     "exception": false,
     "start_time": "2023-01-20T09:04:36.252510",
     "status": "completed"
    },
    "tags": []
   },
   "source": [
    "### &nbsp;&nbsp; compute gradient descent"
   ]
  },
  {
   "cell_type": "code",
   "execution_count": 6,
   "id": "74396efa",
   "metadata": {
    "execution": {
     "iopub.execute_input": "2023-01-20T09:04:36.272721Z",
     "iopub.status.busy": "2023-01-20T09:04:36.271960Z",
     "iopub.status.idle": "2023-01-20T09:05:15.466454Z",
     "shell.execute_reply": "2023-01-20T09:05:15.464860Z"
    },
    "papermill": {
     "duration": 39.205149,
     "end_time": "2023-01-20T09:05:15.469828",
     "exception": false,
     "start_time": "2023-01-20T09:04:36.264679",
     "status": "completed"
    },
    "scrolled": true,
    "tags": []
   },
   "outputs": [
    {
     "name": "stdout",
     "output_type": "stream",
     "text": [
      "Iteration 0 : Cost [1.01276858]\n",
      "Iteration 1000 : Cost [0.30509053]\n",
      "Iteration 2000 : Cost [0.30472301]\n",
      "Iteration 3000 : Cost [0.30435791]\n",
      "Iteration 4000 : Cost [0.3039952]\n",
      "Iteration 5000 : Cost [0.30363486]\n",
      "Iteration 6000 : Cost [0.30327687]\n",
      "Iteration 7000 : Cost [0.3029212]\n",
      "Iteration 8000 : Cost [0.30256783]\n",
      "Iteration 9000 : Cost [0.30221674]\n",
      "Iteration 9999 : Cost [0.30186825]\n",
      "w: [[0.07125347]\n",
      " [0.0648288 ]]  b: [-8.18861283]\n"
     ]
    }
   ],
   "source": [
    "def Gradient_Descent(iteration,X,y,w,b,alpha,cost_function, derivative):\n",
    "    cost_history = []\n",
    "    w_history = []\n",
    "\n",
    "    for i in range(iteration):\n",
    "        db, dw = derivative(X,y,w,b)\n",
    "        w = w - alpha * dw\n",
    "        b = b - alpha * db\n",
    "        \n",
    "        cost_history.append(cost_function(X,y,w,b))\n",
    "        \n",
    "        if i% math.ceil(iteration/10) == 0 or i == (iteration-1):\n",
    "            w_history.append(w)\n",
    "            print('Iteration' ,i,': Cost', cost_history[-1])\n",
    "            \n",
    "    return w,b,cost_history,w_history\n",
    "    \n",
    "intial_w = 0.01 * (np.random.rand(2).reshape(-1,1) - 0.5)\n",
    "initial_b = -8\n",
    "iterations = 10000\n",
    "alpha = 0.001\n",
    "w,b,cost_history,w_history= Gradient_Descent(iterations,X_train ,y_train, intial_w, initial_b, alpha,cost_function, derivative)\n",
    "print('w:',w,' b:',b)"
   ]
  },
  {
   "cell_type": "code",
   "execution_count": 7,
   "id": "ab375979",
   "metadata": {
    "execution": {
     "iopub.execute_input": "2023-01-20T09:05:15.485034Z",
     "iopub.status.busy": "2023-01-20T09:05:15.484646Z",
     "iopub.status.idle": "2023-01-20T09:05:15.494842Z",
     "shell.execute_reply": "2023-01-20T09:05:15.493839Z"
    },
    "papermill": {
     "duration": 0.020428,
     "end_time": "2023-01-20T09:05:15.497240",
     "exception": false,
     "start_time": "2023-01-20T09:05:15.476812",
     "status": "completed"
    },
    "tags": []
   },
   "outputs": [
    {
     "name": "stdout",
     "output_type": "stream",
     "text": [
      "[0, 0, 0, 1, 1, 0, 1, 1, 1, 1, 1, 0, 1, 1, 0, 1, 1, 0, 1, 1, 0, 1, 0, 0, 1, 1, 1, 1, 0, 0, 1, 1, 0, 1, 0, 0, 1, 1, 0, 0, 1, 0, 1, 1, 0, 0, 1, 1, 1, 1, 1, 1, 1, 0, 0, 0, 1, 1, 1, 1, 1, 0, 0, 0, 0, 0, 1, 0, 1, 1, 0, 1, 1, 1, 1, 1, 1, 1, 0, 1, 1, 1, 1, 0, 1, 1, 0, 1, 1, 0, 1, 1, 0, 1, 1, 1, 1, 1, 0, 1]\n",
      "92.0\n"
     ]
    }
   ],
   "source": [
    "def predict(X,b,w):\n",
    "    p = []\n",
    "    for i in range(X.shape[0]):\n",
    "        z = np.dot(X[i],w) + b\n",
    "        Fwb = sigmoid(z)\n",
    "        if Fwb >= 0.5: p.append(1) \n",
    "        else: p.append(0)\n",
    "    return p\n",
    "\n",
    "p = predict(X_train ,-8.18860533 , [0.07125341,0.06482874])\n",
    "print(p)\n",
    "print(np.mean(p == y_train)*100)"
   ]
  },
  {
   "cell_type": "markdown",
   "id": "68c6131a",
   "metadata": {
    "papermill": {
     "duration": 0.006325,
     "end_time": "2023-01-20T09:05:15.510362",
     "exception": false,
     "start_time": "2023-01-20T09:05:15.504037",
     "status": "completed"
    },
    "tags": []
   },
   "source": [
    "# Regularization\n",
    "Recall that for regularized logistic regression, the cost function is of the form\n",
    "$$J(\\mathbf{w},b) = \\frac{1}{m}  \\sum_{i=0}^{m-1} \\left[ -y^{(i)} \\log\\left(f_{\\mathbf{w},b}\\left( \\mathbf{x}^{(i)} \\right) \\right) - \\left( 1 - y^{(i)}\\right) \\log \\left( 1 - f_{\\mathbf{w},b}\\left( \\mathbf{x}^{(i)} \\right) \\right) \\right] + \\frac{\\lambda}{2m}  \\sum_{j=0}^{n-1} w_j^2$$\n",
    "\n",
    "Compare this to the cost function without regularization (which you implemented above), which is of the form \n",
    "\n",
    "$$ J(\\mathbf{w}.b) = \\frac{1}{m}\\sum_{i=0}^{m-1} \\left[ (-y^{(i)} \\log\\left(f_{\\mathbf{w},b}\\left( \\mathbf{x}^{(i)} \\right) \\right) - \\left( 1 - y^{(i)}\\right) \\log \\left( 1 - f_{\\mathbf{w},b}\\left( \\mathbf{x}^{(i)} \\right) \\right)\\right]$$\n",
    "\n",
    "The difference is the regularization term, which is $$\\frac{\\lambda}{2m}  \\sum_{j=0}^{n-1} w_j^2$$ \n",
    "Note that the $b$ parameter is not regularized."
   ]
  },
  {
   "cell_type": "markdown",
   "id": "bbb65448",
   "metadata": {
    "papermill": {
     "duration": 0.006168,
     "end_time": "2023-01-20T09:05:15.523062",
     "exception": false,
     "start_time": "2023-01-20T09:05:15.516894",
     "status": "completed"
    },
    "tags": []
   },
   "source": [
    "## &nbsp; compute cost function"
   ]
  },
  {
   "cell_type": "code",
   "execution_count": 8,
   "id": "6ccf5814",
   "metadata": {
    "execution": {
     "iopub.execute_input": "2023-01-20T09:05:15.537820Z",
     "iopub.status.busy": "2023-01-20T09:05:15.537390Z",
     "iopub.status.idle": "2023-01-20T09:05:15.547836Z",
     "shell.execute_reply": "2023-01-20T09:05:15.546840Z"
    },
    "papermill": {
     "duration": 0.020652,
     "end_time": "2023-01-20T09:05:15.550206",
     "exception": false,
     "start_time": "2023-01-20T09:05:15.529554",
     "status": "completed"
    },
    "tags": []
   },
   "outputs": [
    {
     "name": "stdout",
     "output_type": "stream",
     "text": [
      "0.6931471805599458\n"
     ]
    }
   ],
   "source": [
    "def reg_cost_function(X,y,w,b,lambda_ =1):\n",
    "    cost = cost_function(X,y,w,b)\n",
    "    m = X.shape[0]\n",
    "    reg = 0\n",
    "    for j in range(w.shape[0]):\n",
    "        reg += w[j]**2\n",
    "        \n",
    "    cost += ( (lambda_ / 2 * m ) * reg)\n",
    "    return cost\n",
    "\n",
    "initial_w = np.zeros(X_train.shape[1])\n",
    "initial_b = 0.\n",
    "print(reg_cost_function(X_train, y_train, initial_w, initial_b))"
   ]
  },
  {
   "cell_type": "markdown",
   "id": "0aeef23f",
   "metadata": {
    "papermill": {
     "duration": 0.006528,
     "end_time": "2023-01-20T09:05:15.564857",
     "exception": false,
     "start_time": "2023-01-20T09:05:15.558329",
     "status": "completed"
    },
    "tags": []
   },
   "source": [
    "## &nbsp; compute derivative"
   ]
  },
  {
   "cell_type": "code",
   "execution_count": 9,
   "id": "318e4898",
   "metadata": {
    "execution": {
     "iopub.execute_input": "2023-01-20T09:05:15.580215Z",
     "iopub.status.busy": "2023-01-20T09:05:15.579797Z",
     "iopub.status.idle": "2023-01-20T09:05:15.586268Z",
     "shell.execute_reply": "2023-01-20T09:05:15.585128Z"
    },
    "papermill": {
     "duration": 0.016692,
     "end_time": "2023-01-20T09:05:15.588525",
     "exception": false,
     "start_time": "2023-01-20T09:05:15.571833",
     "status": "completed"
    },
    "tags": []
   },
   "outputs": [],
   "source": [
    "def reg_derivative(X, y, w, b, lambda_ = 1):\n",
    "    m, n = X.shape\n",
    "    db, dw = derivative(X, y, w, b)\n",
    "    for j in range(n):  \n",
    "        dw[j] += (lambda_ / m) * w[j]\n",
    "        \n",
    "    return db, dw"
   ]
  },
  {
   "cell_type": "markdown",
   "id": "0188b173",
   "metadata": {
    "papermill": {
     "duration": 0.006376,
     "end_time": "2023-01-20T09:05:15.602010",
     "exception": false,
     "start_time": "2023-01-20T09:05:15.595634",
     "status": "completed"
    },
    "tags": []
   },
   "source": [
    "## compute gradient descent\n",
    "The gradient of the regularized cost function has two components. The first, $\\frac{\\partial J(\\mathbf{w},b)}{\\partial b}$ is a scalar, the other is a vector with the same shape as the parameters $\\mathbf{w}$, where the $j^\\mathrm{th}$ element is defined as follows:\n",
    "\n",
    "$$\\frac{\\partial J(\\mathbf{w},b)}{\\partial b} = \\frac{1}{m}  \\sum_{i=0}^{m-1} (f_{\\mathbf{w},b}(\\mathbf{x}^{(i)}) - y^{(i)})  $$\n",
    "\n",
    "$$\\frac{\\partial J(\\mathbf{w},b)}{\\partial w_j} = \\left( \\frac{1}{m}  \\sum_{i=0}^{m-1} (f_{\\mathbf{w},b}(\\mathbf{x}^{(i)}) - y^{(i)}) x_j^{(i)} \\right) + \\frac{\\lambda}{m} w_j  \\quad\\, \\mbox{for $j=0...(n-1)$}$$\n",
    "\n",
    "Compare this to the gradient of the cost function without regularization (which you implemented above), which is of the form \n",
    "$$\n",
    "\\frac{\\partial J(\\mathbf{w},b)}{\\partial b}  = \\frac{1}{m} \\sum\\limits_{i = 0}^{m-1} (f_{\\mathbf{w},b}(\\mathbf{x}^{(i)}) - \\mathbf{y}^{(i)})\n",
    "$$\n",
    "$$\n",
    "\\frac{\\partial J(\\mathbf{w},b)}{\\partial w_j}  = \\frac{1}{m} \\sum\\limits_{i = 0}^{m-1} (f_{\\mathbf{w},b}(\\mathbf{x}^{(i)}) - \\mathbf{y}^{(i)})x_{j}^{(i)}\n",
    "$$"
   ]
  },
  {
   "cell_type": "code",
   "execution_count": 10,
   "id": "46f6ee23",
   "metadata": {
    "execution": {
     "iopub.execute_input": "2023-01-20T09:05:15.618111Z",
     "iopub.status.busy": "2023-01-20T09:05:15.617707Z",
     "iopub.status.idle": "2023-01-20T09:05:54.714712Z",
     "shell.execute_reply": "2023-01-20T09:05:54.713264Z"
    },
    "papermill": {
     "duration": 39.109198,
     "end_time": "2023-01-20T09:05:54.718380",
     "exception": false,
     "start_time": "2023-01-20T09:05:15.609182",
     "status": "completed"
    },
    "tags": []
   },
   "outputs": [
    {
     "name": "stdout",
     "output_type": "stream",
     "text": [
      "Iteration 0 : Cost [1.04903477]\n",
      "Iteration 1000 : Cost [0.75105097]\n",
      "Iteration 2000 : Cost [0.75269326]\n",
      "Iteration 3000 : Cost [0.75433605]\n",
      "Iteration 4000 : Cost [0.7559793]\n",
      "Iteration 5000 : Cost [0.75762299]\n",
      "Iteration 6000 : Cost [0.7592671]\n",
      "Iteration 7000 : Cost [0.7609116]\n",
      "Iteration 8000 : Cost [0.76255646]\n",
      "Iteration 9000 : Cost [0.76420167]\n",
      "Iteration 9999 : Cost [0.76584556]\n",
      "w: [[0.07125184]\n",
      " [0.0648282 ]]  b: [-8.1885452]\n"
     ]
    }
   ],
   "source": [
    "intial_w = 0.01 * (np.random.rand(2).reshape(-1,1) - 0.5)\n",
    "initial_b = -8\n",
    "iterations = 10000\n",
    "alpha = 0.001\n",
    "w,b,cost_history,w_history= Gradient_Descent(iterations,X_train ,y_train, intial_w, initial_b, alpha,reg_cost_function, reg_derivative)\n",
    "print('w:',w,' b:',b)"
   ]
  },
  {
   "cell_type": "code",
   "execution_count": 11,
   "id": "7224c382",
   "metadata": {
    "execution": {
     "iopub.execute_input": "2023-01-20T09:05:54.735236Z",
     "iopub.status.busy": "2023-01-20T09:05:54.734832Z",
     "iopub.status.idle": "2023-01-20T09:05:54.743882Z",
     "shell.execute_reply": "2023-01-20T09:05:54.742362Z"
    },
    "papermill": {
     "duration": 0.020736,
     "end_time": "2023-01-20T09:05:54.746841",
     "exception": false,
     "start_time": "2023-01-20T09:05:54.726105",
     "status": "completed"
    },
    "scrolled": true,
    "tags": []
   },
   "outputs": [
    {
     "name": "stdout",
     "output_type": "stream",
     "text": [
      "[0, 0, 0, 1, 1, 0, 1, 1, 1, 1, 1, 0, 1, 1, 0, 1, 1, 0, 1, 1, 0, 1, 0, 0, 1, 1, 1, 1, 0, 0, 1, 1, 0, 1, 0, 0, 1, 1, 0, 0, 1, 0, 1, 1, 0, 0, 1, 1, 1, 1, 1, 1, 1, 0, 0, 0, 1, 1, 1, 1, 1, 0, 0, 0, 0, 0, 1, 0, 1, 1, 0, 1, 1, 1, 1, 1, 1, 1, 0, 1, 1, 1, 1, 0, 1, 1, 0, 1, 1, 0, 1, 1, 0, 1, 1, 1, 1, 1, 0, 1]\n",
      "92.0\n"
     ]
    }
   ],
   "source": [
    "p = predict(X_train ,-8.18851385 , [0.0712516,0.06482795])\n",
    "print(p)\n",
    "print(np.mean(p == y_train)*100)"
   ]
  },
  {
   "cell_type": "markdown",
   "id": "7e43c999",
   "metadata": {
    "papermill": {
     "duration": 0.007194,
     "end_time": "2023-01-20T09:05:54.761488",
     "exception": false,
     "start_time": "2023-01-20T09:05:54.754294",
     "status": "completed"
    },
    "tags": []
   },
   "source": [
    "# Using scikit-learn"
   ]
  },
  {
   "cell_type": "code",
   "execution_count": 12,
   "id": "f3d3ccf3",
   "metadata": {
    "execution": {
     "iopub.execute_input": "2023-01-20T09:05:54.778568Z",
     "iopub.status.busy": "2023-01-20T09:05:54.777489Z",
     "iopub.status.idle": "2023-01-20T09:05:56.037044Z",
     "shell.execute_reply": "2023-01-20T09:05:56.035535Z"
    },
    "papermill": {
     "duration": 1.270926,
     "end_time": "2023-01-20T09:05:56.039774",
     "exception": false,
     "start_time": "2023-01-20T09:05:54.768848",
     "status": "completed"
    },
    "tags": []
   },
   "outputs": [
    {
     "name": "stdout",
     "output_type": "stream",
     "text": [
      "Peak to Peak range by column in Raw        X:[69.76903535 68.26617251]\n",
      "Peak to Peak range by column in Normalized X:[3.60364466 3.69213184]\n",
      "LogisticRegression()\n",
      "number of iterations completed: [9]\n",
      "model parameters:                   w: [[2.28481793 2.09157835]], b:[1.00244111]\n",
      "Accuracy:  0.89\n"
     ]
    }
   ],
   "source": [
    "from sklearn.linear_model import LogisticRegression\n",
    "from sklearn.preprocessing import StandardScaler\n",
    "\n",
    "scaler = StandardScaler()\n",
    "X_norm = scaler.fit_transform(X_train)\n",
    "print(f\"Peak to Peak range by column in Raw        X:{np.ptp(X_train,axis=0)}\")   \n",
    "print(f\"Peak to Peak range by column in Normalized X:{np.ptp(X_norm,axis=0)}\")\n",
    "\n",
    "logistic = LogisticRegression().fit(X_norm , y_train)\n",
    "\n",
    "print(logistic)\n",
    "print(f\"number of iterations completed: {logistic.n_iter_}\")\n",
    "b_norm = logistic.intercept_\n",
    "w_norm = logistic.coef_\n",
    "print(f\"model parameters:                   w: {w_norm}, b:{b_norm}\")\n",
    "\n",
    "y_pred = logistic.score(X_norm , y_train)\n",
    "print(\"Accuracy: \",y_pred)"
   ]
  }
 ],
 "metadata": {
  "kernelspec": {
   "display_name": "Python 3",
   "language": "python",
   "name": "python3"
  },
  "language_info": {
   "codemirror_mode": {
    "name": "ipython",
    "version": 3
   },
   "file_extension": ".py",
   "mimetype": "text/x-python",
   "name": "python",
   "nbconvert_exporter": "python",
   "pygments_lexer": "ipython3",
   "version": "3.7.12"
  },
  "papermill": {
   "default_parameters": {},
   "duration": 89.606018,
   "end_time": "2023-01-20T09:05:56.871833",
   "environment_variables": {},
   "exception": null,
   "input_path": "__notebook__.ipynb",
   "output_path": "__notebook__.ipynb",
   "parameters": {},
   "start_time": "2023-01-20T09:04:27.265815",
   "version": "2.3.4"
  }
 },
 "nbformat": 4,
 "nbformat_minor": 5
}
